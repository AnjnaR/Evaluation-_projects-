{
 "cells": [
  {
   "cell_type": "markdown",
   "id": "6e028d8c",
   "metadata": {},
   "source": [
    "# AVACADO\n",
    "The avocado (Persea americana) is a tree originating in the Americas which is likely native to the highland regions of south-central Mexico to Guatemala. It is classified as a member of the flowering plant family Lauraceae.The fruit of the plant, also called an avocado (or avocado pear or alligator pear), is botanically a large berry containing a single large seed.Avocado trees are partially self-pollinating, and are often propagated through grafting to maintain predictable fruit quality and quantity.\n",
    "\n",
    "Avocados are cultivated in tropical and Mediterranean climates of many countries, with Mexico as the leading producer of avocados in 2019, supplying 32% of the world total.\n",
    "\n",
    "The fruit of domestic varieties has a buttery flesh when ripe. Depending on the variety, avocados have green, brown, purplish, or black skin when ripe, and may be pear-shaped, egg-shaped, or spherical. Commercially, the fruits are picked while immature, and ripened after harvesting.\n",
    "\n",
    "##Data Description\n",
    "This data was downloaded from the Hass Avocado Board website in May of 2018 & compiled into a single CSV.\n",
    "\n",
    "The table below represents weekly 2018 retail scan data for National retail volume (units) and price. Retail scan data comes directly from retailers’ cash registers based on actual retail sales of Hass avocados.\n",
    "\n",
    "Starting in 2013, the table below reflects an expanded, multi-outlet retail data set. Multi-outlet reporting includes an aggregation of the following channels: grocery, mass, club, drug, dollar and military. The Average Price (of avocados) in the table reflects a per unit (per avocado) cost, even when multiple units (avocados) are sold in bags.\n",
    "\n",
    "The Product Lookup codes (PLU’s) in the table are only for Hass avocados. Other varieties of avocados (e.g. greenskins) are not included in this table."
   ]
  },
  {
   "cell_type": "markdown",
   "id": "be408735",
   "metadata": {},
   "source": [
    "# The Data Set"
   ]
  },
  {
   "cell_type": "code",
   "execution_count": null,
   "id": "3d365382",
   "metadata": {},
   "outputs": [],
   "source": [
    "import pandas as pd\n",
    "import numpy as np\n",
    "\n",
    "df = pd.read_csv('avocado.csv')"
   ]
  },
  {
   "cell_type": "code",
   "execution_count": null,
   "id": "54bc4821",
   "metadata": {},
   "outputs": [],
   "source": [
    "df"
   ]
  },
  {
   "cell_type": "code",
   "execution_count": null,
   "id": "b234a53a",
   "metadata": {},
   "outputs": [],
   "source": [
    "df.head"
   ]
  },
  {
   "cell_type": "code",
   "execution_count": null,
   "id": "3739e717",
   "metadata": {},
   "outputs": [],
   "source": [
    "df.tail"
   ]
  },
  {
   "cell_type": "code",
   "execution_count": null,
   "id": "8a17e0c4",
   "metadata": {},
   "outputs": [],
   "source": [
    "df.columns"
   ]
  },
  {
   "cell_type": "code",
   "execution_count": null,
   "id": "afefcb30",
   "metadata": {},
   "outputs": [],
   "source": [
    "#Dropping the unnamed column\n",
    "\n",
    "df.drop('Unnamed: 0',axis=1,inplace=True)"
   ]
  },
  {
   "cell_type": "markdown",
   "id": "a0f2a6db",
   "metadata": {},
   "source": [
    "##About the Columns\n",
    "Date\n",
    "This Column shows the The date of the observation\n",
    "\n",
    "Average Price\n",
    "This Column shows the the average price of a single avocado\n",
    "\n",
    "Total Volume\n",
    "This Column shows the Total number of avocados sold\n",
    "\n",
    "4046\n",
    "This Column shows the Total number of avocados with PLU 4046 sold\n",
    "\n",
    "4225\n",
    "This Column shows the Total number of avocados with PLU 4225 sold\n",
    "\n",
    "4770\n",
    "This Column shows the Total number of avocados with PLU 4770 sold\n",
    "\n",
    "Total Bags\n",
    "This Column shows the no of total bags\n",
    "\n",
    "Small Bags\n",
    "This Column shows the no of total small bags\n",
    "\n",
    "Large Bags\n",
    "This Column shows the no. of total large bags\n",
    "\n",
    "XLarge Bags\n",
    "This Column shows the no. of total Xlarge bags\n",
    "\n",
    "Type\n",
    "This Column shows the conventional or organic\n",
    "\n",
    "Year\n",
    "This Column shows the the year of the observation\n",
    "\n",
    "Region\n",
    "This Column shows the Place"
   ]
  },
  {
   "cell_type": "code",
   "execution_count": null,
   "id": "3bd7f883",
   "metadata": {},
   "outputs": [],
   "source": [
    "#Null values check"
   ]
  },
  {
   "cell_type": "code",
   "execution_count": null,
   "id": "9c81bc9c",
   "metadata": {},
   "outputs": [],
   "source": [
    "df.isnull().sum()"
   ]
  },
  {
   "cell_type": "code",
   "execution_count": null,
   "id": "eef46a79",
   "metadata": {},
   "outputs": [],
   "source": [
    "import seaborn as sns\n",
    "import matplotlib.pyplot as plt\n",
    "\n",
    "sns.heatmap(df.isnull())\n",
    "plt.title(\"Null Values\")\n",
    "plt.show()"
   ]
  },
  {
   "cell_type": "markdown",
   "id": "db793d5c",
   "metadata": {},
   "source": [
    "We can see that there are No Null Blank or Empty Values are Present in the Datset\n",
    "\n",
    "##Checking and Transforming the Data types of the Columns To Same DataTypes for Better Analysis"
   ]
  },
  {
   "cell_type": "code",
   "execution_count": null,
   "id": "19c0d3b0",
   "metadata": {},
   "outputs": [],
   "source": [
    "df.info()"
   ]
  },
  {
   "cell_type": "code",
   "execution_count": null,
   "id": "e6696a39",
   "metadata": {},
   "outputs": [],
   "source": [
    "df.describe(include=['O'])"
   ]
  },
  {
   "cell_type": "code",
   "execution_count": null,
   "id": "c5b5bf43",
   "metadata": {},
   "outputs": [],
   "source": [
    "from sklearn.preprocessing import LabelEncoder\n",
    "le =LabelEncoder()\n",
    "\n",
    "list1=['type','region']\n",
    "for val in list1:\n",
    "  df[val]=le.fit_transform(df[val].astype(str))"
   ]
  },
  {
   "cell_type": "code",
   "execution_count": null,
   "id": "83651273",
   "metadata": {},
   "outputs": [],
   "source": [
    "da=pd.to_datetime(df['Date'],errors='coerce')\n",
    "df['Date']=da.dt.strftime(\"%Y%m%d\").astype(int)"
   ]
  },
  {
   "cell_type": "code",
   "execution_count": null,
   "id": "e46acc58",
   "metadata": {},
   "outputs": [],
   "source": [
    "df"
   ]
  },
  {
   "cell_type": "markdown",
   "id": "2c6013b3",
   "metadata": {},
   "source": [
    "# EDA##"
   ]
  },
  {
   "cell_type": "code",
   "execution_count": null,
   "id": "5e6f344e",
   "metadata": {},
   "outputs": [],
   "source": [
    "df.plot.scatter(x='AveragePrice',y='region')"
   ]
  },
  {
   "cell_type": "code",
   "execution_count": null,
   "id": "d2ec7fad",
   "metadata": {},
   "outputs": [],
   "source": [
    "plt.figure(figsize=(5,5))\n",
    "sns.countplot(df.type)"
   ]
  },
  {
   "cell_type": "code",
   "execution_count": null,
   "id": "93d30a54",
   "metadata": {},
   "outputs": [],
   "source": [
    "df.type.value_counts()"
   ]
  },
  {
   "cell_type": "code",
   "execution_count": null,
   "id": "ece6f500",
   "metadata": {},
   "outputs": [],
   "source": [
    "s.barplot(data=df, x=\"AveragePrice\", y=\"region\")"
   ]
  },
  {
   "cell_type": "code",
   "execution_count": null,
   "id": "4333e382",
   "metadata": {},
   "outputs": [],
   "source": [
    "df.region.value_counts()"
   ]
  },
  {
   "cell_type": "code",
   "execution_count": null,
   "id": "5d64e321",
   "metadata": {},
   "outputs": [],
   "source": [
    "sns.lineplot(x='AveragePrice',y='Total Volume',data=df)"
   ]
  },
  {
   "cell_type": "code",
   "execution_count": null,
   "id": "af126cee",
   "metadata": {},
   "outputs": [],
   "source": [
    "sns.barplot(data=df, x=\"AveragePrice\", y=\"4046\")"
   ]
  },
  {
   "cell_type": "code",
   "execution_count": null,
   "id": "c1f88534",
   "metadata": {},
   "outputs": [],
   "source": [
    "df.plot.hexbin(x='AveragePrice', y='4225', gridsize=15)"
   ]
  },
  {
   "cell_type": "code",
   "execution_count": null,
   "id": "e07ce357",
   "metadata": {},
   "outputs": [],
   "source": [
    "df.plot.scatter(x='AveragePrice',y='4770')"
   ]
  },
  {
   "cell_type": "code",
   "execution_count": null,
   "id": "239a1208",
   "metadata": {},
   "outputs": [],
   "source": [
    "sns.barplot(data=df, x=\"AveragePrice\", y=\"Total Bags\")"
   ]
  },
  {
   "cell_type": "code",
   "execution_count": null,
   "id": "3076c8b9",
   "metadata": {},
   "outputs": [],
   "source": [
    "sns.lineplot(x='AveragePrice',y='Small Bags',data=df)"
   ]
  },
  {
   "cell_type": "code",
   "execution_count": null,
   "id": "f430dd7a",
   "metadata": {},
   "outputs": [],
   "source": [
    "sns.lineplot(x='year',y='type',data=df)"
   ]
  },
  {
   "cell_type": "code",
   "execution_count": null,
   "id": "d998fd1e",
   "metadata": {},
   "outputs": [],
   "source": [
    "df.groupby('year')['type'].value_counts()"
   ]
  },
  {
   "cell_type": "code",
   "execution_count": null,
   "id": "fef863d0",
   "metadata": {},
   "outputs": [],
   "source": [
    "df.plot.hexbin(x='AveragePrice', y='Large Bags', gridsize=15)"
   ]
  },
  {
   "cell_type": "code",
   "execution_count": null,
   "id": "cfdb5138",
   "metadata": {},
   "outputs": [],
   "source": [
    "sns.countplot(df['year'])\n"
   ]
  },
  {
   "cell_type": "code",
   "execution_count": null,
   "id": "ef07e0c1",
   "metadata": {},
   "outputs": [],
   "source": [
    "df.year.value_counts()"
   ]
  },
  {
   "cell_type": "code",
   "execution_count": null,
   "id": "a7a0f7f6",
   "metadata": {},
   "outputs": [],
   "source": [
    "sns.displot(df['region'])"
   ]
  },
  {
   "cell_type": "code",
   "execution_count": null,
   "id": "c569272e",
   "metadata": {},
   "outputs": [],
   "source": [
    "sns.displot(df['type'])"
   ]
  },
  {
   "cell_type": "code",
   "execution_count": null,
   "id": "7fa007a1",
   "metadata": {},
   "outputs": [],
   "source": [
    "df.hist(figsize=(15,30),edgecolor='red',layout=(9,4),bins=15,legend=True)\n",
    "plt.show()"
   ]
  },
  {
   "cell_type": "code",
   "execution_count": null,
   "id": "1ca2d925",
   "metadata": {},
   "outputs": [],
   "source": [
    "##Coorelation\n",
    "df.corr()"
   ]
  },
  {
   "cell_type": "code",
   "execution_count": null,
   "id": "b505f4a6",
   "metadata": {},
   "outputs": [],
   "source": [
    "df.corr()['AveragePrice'].sort_values()"
   ]
  },
  {
   "cell_type": "code",
   "execution_count": null,
   "id": "bb51e87a",
   "metadata": {},
   "outputs": [],
   "source": [
    "df.corr()['region'].sort_values()"
   ]
  },
  {
   "cell_type": "code",
   "execution_count": null,
   "id": "9f6980f5",
   "metadata": {},
   "outputs": [],
   "source": [
    "import matplotlib.pyplot as plt\n",
    "import seaborn as sns\n",
    "plt.figure(figsize=(15,7))\n",
    "sns.heatmap(df.corr(), annot=True, linewidths=0.5,linecolor=\"black\", fmt='.2f')\n"
   ]
  },
  {
   "cell_type": "code",
   "execution_count": null,
   "id": "8fc18844",
   "metadata": {},
   "outputs": [],
   "source": [
    "##Descriptive Statistics\n",
    "df.describe()"
   ]
  },
  {
   "cell_type": "code",
   "execution_count": null,
   "id": "145b650c",
   "metadata": {},
   "outputs": [],
   "source": [
    "plt.figure(figsize=(15,7))\n",
    "sns.heatmap(round(df.describe()[1:].transpose(),2), annot=True, linewidths=0.5,linecolor=\"black\", fmt='f')\n"
   ]
  },
  {
   "cell_type": "code",
   "execution_count": null,
   "id": "407c4443",
   "metadata": {},
   "outputs": [],
   "source": [
    "df.info()"
   ]
  },
  {
   "cell_type": "code",
   "execution_count": null,
   "id": "e8c265e9",
   "metadata": {},
   "outputs": [],
   "source": [
    "#Checking Data To Remove Skewness\n",
    "df.iloc[:,:-1].skew()"
   ]
  },
  {
   "cell_type": "code",
   "execution_count": null,
   "id": "58f2d856",
   "metadata": {},
   "outputs": [],
   "source": [
    "from sklearn.preprocessing import power_transform\n",
    "x_new=power_transform(df.iloc[:,:-1],method='yeo-johnson')\n",
    "\n",
    "df.iloc[:,:-1]=pd.DataFrame(x_new,columns=df.iloc[:,:-1].columns)\n"
   ]
  },
  {
   "cell_type": "code",
   "execution_count": null,
   "id": "dba06d85",
   "metadata": {},
   "outputs": [],
   "source": [
    "df.iloc[:,:-1].skew()"
   ]
  },
  {
   "cell_type": "markdown",
   "id": "d10481c1",
   "metadata": {},
   "source": [
    "# Outliers Checking"
   ]
  },
  {
   "cell_type": "code",
   "execution_count": null,
   "id": "fd1b72a5",
   "metadata": {},
   "outputs": [],
   "source": [
    "import warnings\n",
    "warnings.filterwarnings('ignore')\n",
    "df.plot(kind='box',subplots=True, layout=(3,5), figsize=[20,8])\n"
   ]
  },
  {
   "cell_type": "markdown",
   "id": "c58efdb0",
   "metadata": {},
   "source": [
    "# IQR Proximity Rule\n",
    "#Z - Score Technique"
   ]
  },
  {
   "cell_type": "code",
   "execution_count": null,
   "id": "138a6184",
   "metadata": {},
   "outputs": [],
   "source": [
    "from scipy.stats import zscore\n",
    "import numpy as np\n",
    "z=np.abs(zscore(df))\n",
    "z.shape"
   ]
  },
  {
   "cell_type": "code",
   "execution_count": null,
   "id": "e332bfa1",
   "metadata": {},
   "outputs": [],
   "source": [
    "threshold=3\n",
    "print(np.where(z>3))"
   ]
  },
  {
   "cell_type": "code",
   "execution_count": null,
   "id": "7a96366c",
   "metadata": {},
   "outputs": [],
   "source": [
    "len(np.where(z>3)[0])"
   ]
  },
  {
   "cell_type": "code",
   "execution_count": null,
   "id": "4195a9be",
   "metadata": {},
   "outputs": [],
   "source": [
    "df.drop([ 1716,  2699,  5462,  5475,  5476,  5477,  5478,  5479,  5480,\n",
    "        5481,  5482,  5483,  5484,  5485,  5486,  5487,  5488,  5489,\n",
    "        5490,  5491,  5492,  5493,  5494,  5495,  5496,  5497,  5506,\n",
    "        5506,  7412,  8319,  8322,  8344,  8344,  8345,  8345,  8346,\n",
    "        8346,  8347,  8347,  8348,  8348,  8349,  8349,  8350,  8351,\n",
    "        8352,  8352,  8353,  8353,  8354,  8354,  8355,  8356,  8357,\n",
    "        8358,  8359,  8360,  8361,  8362,  8363,  8364,  8365,  8365,\n",
    "        8366,  8366,  8366,  8367,  8367,  8368,  8369,  8370,  8371,\n",
    "        9090,  9090,  9091,  9091,  9092,  9092,  9093,  9093,  9094,\n",
    "        9094,  9095,  9096,  9096,  9097,  9097,  9097,  9097,  9098,\n",
    "        9098,  9099,  9099,  9100,  9101,  9212,  9894, 10381, 11024,\n",
    "       11320, 11321, 11322, 11325, 11326, 11332, 11333, 11336, 11338,\n",
    "       11340, 11342, 11347, 11348, 11349, 11350, 11354, 11387, 11388,\n",
    "       11594, 11595, 11596, 11597, 11614, 11662, 12132, 14124, 14125,\n",
    "       14404, 15261, 15262, 15473, 16055, 16720, 17428],axis=0)"
   ]
  },
  {
   "cell_type": "code",
   "execution_count": null,
   "id": "685e6b13",
   "metadata": {},
   "outputs": [],
   "source": [
    "df=df[(z<3).all(axis=1)]"
   ]
  },
  {
   "cell_type": "code",
   "execution_count": null,
   "id": "82c8cb4b",
   "metadata": {},
   "outputs": [],
   "source": [
    "df.shape"
   ]
  },
  {
   "cell_type": "markdown",
   "id": "8e1e9a23",
   "metadata": {},
   "source": [
    "# Feature Engineering ( Variantion Inflation Factor )"
   ]
  },
  {
   "cell_type": "code",
   "execution_count": null,
   "id": "b1257cb5",
   "metadata": {},
   "outputs": [],
   "source": [
    "from statsmodels.stats.outliers_influence import variance_inflation_factor"
   ]
  },
  {
   "cell_type": "code",
   "execution_count": null,
   "id": "02bb8fae",
   "metadata": {},
   "outputs": [],
   "source": [
    "df.corr()"
   ]
  },
  {
   "cell_type": "code",
   "execution_count": null,
   "id": "7288c2d9",
   "metadata": {},
   "outputs": [],
   "source": [
    "import seaborn as sns\n",
    "plt.figure(figsize=(15,7))\n",
    "sns.heatmap(df.corr(),cmap=\"Blues\",annot=True)"
   ]
  },
  {
   "cell_type": "code",
   "execution_count": null,
   "id": "537b6a27",
   "metadata": {},
   "outputs": [],
   "source": [
    "x1=df.drop('AveragePrice',axis=1)\n",
    "y1=df['AveragePrice']\n",
    "\n",
    "\n",
    "x2=df.drop('region',axis=1)\n",
    "y2=df['region']"
   ]
  },
  {
   "cell_type": "code",
   "execution_count": null,
   "id": "a22b1bff",
   "metadata": {},
   "outputs": [],
   "source": [
    "x1"
   ]
  },
  {
   "cell_type": "code",
   "execution_count": null,
   "id": "0de3f7cf",
   "metadata": {},
   "outputs": [],
   "source": [
    "y1"
   ]
  },
  {
   "cell_type": "code",
   "execution_count": null,
   "id": "8bb11821",
   "metadata": {},
   "outputs": [],
   "source": [
    "x2"
   ]
  },
  {
   "cell_type": "code",
   "execution_count": null,
   "id": "22b745ef",
   "metadata": {},
   "outputs": [],
   "source": [
    "y2"
   ]
  },
  {
   "cell_type": "code",
   "execution_count": null,
   "id": "e37266b4",
   "metadata": {},
   "outputs": [],
   "source": [
    "def vif_calc1():\n",
    "  vif=pd.DataFrame()\n",
    "  vif[\"VIF Factor\"]=[variance_inflation_factor(x1.values,i) for i in range(x1.shape[1])]\n",
    "  vif[\"features\"]=x1.columns\n",
    "  print(vif)\n",
    "vif_calc1()"
   ]
  },
  {
   "cell_type": "code",
   "execution_count": null,
   "id": "1c11b0ef",
   "metadata": {},
   "outputs": [],
   "source": [
    "x1.drop(['Date','Total Volume'],axis=1,inplace=True)"
   ]
  },
  {
   "cell_type": "code",
   "execution_count": null,
   "id": "dc0f1a61",
   "metadata": {},
   "outputs": [],
   "source": [
    "vif_calc1()"
   ]
  },
  {
   "cell_type": "code",
   "execution_count": null,
   "id": "80d60bf5",
   "metadata": {},
   "outputs": [],
   "source": [
    "def vif_calc2():\n",
    "  vif=pd.DataFrame()\n",
    "  vif[\"VIF Factor\"]=[variance_inflation_factor(x2.values,i) for i in range(x2.shape[1])]\n",
    "  vif[\"features\"]=x2.columns\n",
    "  print(vif)"
   ]
  },
  {
   "cell_type": "code",
   "execution_count": null,
   "id": "3281fb26",
   "metadata": {},
   "outputs": [],
   "source": [
    "vif_calc2()"
   ]
  },
  {
   "cell_type": "code",
   "execution_count": null,
   "id": "6f562e04",
   "metadata": {},
   "outputs": [],
   "source": [
    "x2.drop(['Date','Total Volume'],axis=1,inplace=True)\n",
    "vif_calc2()"
   ]
  },
  {
   "cell_type": "markdown",
   "id": "8a06b3c2",
   "metadata": {},
   "source": [
    "# Scaling the Data\n"
   ]
  },
  {
   "cell_type": "code",
   "execution_count": null,
   "id": "1faffa37",
   "metadata": {},
   "outputs": [],
   "source": [
    "from sklearn.preprocessing import StandardScaler\n",
    "sc=StandardScaler()\n",
    "x1=sc.fit_transform(x1)\n",
    "x1"
   ]
  },
  {
   "cell_type": "code",
   "execution_count": null,
   "id": "8f51acca",
   "metadata": {},
   "outputs": [],
   "source": [
    "from sklearn.preprocessing import StandardScaler\n",
    "sc=StandardScaler()\n",
    "x2=sc.fit_transform(x2)\n",
    "x2"
   ]
  },
  {
   "cell_type": "markdown",
   "id": "f0f810b1",
   "metadata": {},
   "source": [
    "# Using Linear Regression Model#"
   ]
  },
  {
   "cell_type": "code",
   "execution_count": null,
   "id": "55d9c6de",
   "metadata": {},
   "outputs": [],
   "source": [
    "from sklearn.linear_model import LinearRegression\n",
    "from sklearn.model_selection import train_test_split\n",
    "from sklearn.metrics import mean_absolute_error,mean_squared_error\n",
    "from sklearn.metrics import r2_score\n",
    "\n",
    "\n",
    "for i in range(1,100):\n",
    "  x_train,x_test,y_train,y_test=train_test_split(x1,y1,test_size=.20,random_state=i)\n",
    "  lr=LinearRegression()\n",
    "  lr.fit(x_train,y_train)\n",
    "  pred_train=lr.predict(x_train)\n",
    "  pred_test=lr.predict(x_test)\n",
    "  print(f\"At random state {i},the training accuracy is :- {r2_score(y_train,pred_train)*100}\")\n",
    "  print(f\"At random state {i},the testing accuracy is :- {r2_score(y_test,pred_test)*100}\")\n",
    "  print(\"\\n\")"
   ]
  },
  {
   "cell_type": "code",
   "execution_count": null,
   "id": "8264016e",
   "metadata": {},
   "outputs": [],
   "source": [
    "x_train,x_test,y_train,y_test=train_test_split(x1,y1,test_size=.20,random_state=41)\n",
    "pred=lr.predict(x1)\n",
    "print(\"predicted result \",pred)\n",
    "print('actual result',y_test)"
   ]
  },
  {
   "cell_type": "markdown",
   "id": "7deb1f86",
   "metadata": {},
   "source": [
    "# DEcission Tree Regression"
   ]
  },
  {
   "cell_type": "code",
   "execution_count": null,
   "id": "2b9611a9",
   "metadata": {},
   "outputs": [],
   "source": [
    "from sklearn.tree import DecisionTreeRegressor\n",
    "dtr=DecisionTreeRegressor()\n",
    "dtr.fit(x_train,y_train)"
   ]
  },
  {
   "cell_type": "code",
   "execution_count": null,
   "id": "9d0da611",
   "metadata": {},
   "outputs": [],
   "source": [
    "pred=dtr.predict(x_test)\n",
    "print(\"predicted result \",pred)\n",
    "print('actual result',y_test)"
   ]
  },
  {
   "cell_type": "code",
   "execution_count": null,
   "id": "5d9357a6",
   "metadata": {},
   "outputs": [],
   "source": [
    "print('Error:')\n",
    "print('Mean Absolute Error :',mean_absolute_error(y_test,pred))\n",
    "print('Mean Squared Error :',mean_squared_error(y_test,pred))\n",
    "print('Root mean Squared Error',np.sqrt(mean_squared_error(y_test,pred)))\n",
    "print('r2 score :',r2_score(y_test,pred)*100)"
   ]
  },
  {
   "cell_type": "code",
   "execution_count": null,
   "id": "8a552857",
   "metadata": {},
   "outputs": [],
   "source": [
    "from sklearn.linear_model import Lasso\n",
    "from sklearn.model_selection import GridSearchCV\n",
    "\n",
    "parameters = {'alpha':[.0001,.001,.01,.1,1,10],'random_state':list(range(0,10))}\n",
    "ls=Lasso()\n",
    "clf=GridSearchCV(ls,parameters)\n",
    "clf.fit(x_train,y_train)\n",
    "\n",
    "print(clf.best_params_)"
   ]
  },
  {
   "cell_type": "code",
   "execution_count": null,
   "id": "dda7e875",
   "metadata": {},
   "outputs": [],
   "source": [
    "ls=Lasso(alpha=0.0001,random_state=0)\n",
    "ls.fit(x_train,y_train)\n",
    "ls_score_training=ls.score(x_train,y_train)\n",
    "pred_ls = ls.predict(x_test)\n",
    "ls_score_training*100"
   ]
  },
  {
   "cell_type": "code",
   "execution_count": null,
   "id": "e42e9c03",
   "metadata": {},
   "outputs": [],
   "source": [
    "\n"
   ]
  },
  {
   "cell_type": "code",
   "execution_count": null,
   "id": "1c431d43",
   "metadata": {},
   "outputs": [],
   "source": [
    "from sklearn.ensemble import RandomForestRegressor\n",
    "Rrf=RandomForestRegressor()\n",
    "\n",
    "parameters = {'criterion':['mse','mae'],'max_features':[\"auto\",\"sqrt\",\"log2\"]}\n",
    "clf = GridSearchCV(Rrf,parameters)\n",
    "clf.fit(x_train,y_train)\n",
    "\n",
    "print(clf.best_params_)"
   ]
  },
  {
   "cell_type": "code",
   "execution_count": null,
   "id": "0e8a9915",
   "metadata": {},
   "outputs": [],
   "source": [
    "from sklearn.model_selection import cross_val_score\n",
    "\n",
    "Rrf= RandomForestRegressor(criterion=\"mse\",max_features=\"log2\")\n",
    "Rrf.fit(x_train,y_train)\n",
    "Rrf.score(x_train,y_train)\n",
    "pred_decession = Rrf.predict(x_test)\n",
    "\n",
    "rfs = r2_score(y_test,pred_decession)\n",
    "print('R2 Score :',rfs*100)\n",
    "\n",
    "rfscore = cross_val_score(Rrf,x1,y1,cv=5)\n",
    "rfc=rfscore.mean()\n",
    "print('cross Val Score :',rfc*100)"
   ]
  },
  {
   "cell_type": "markdown",
   "id": "dd477d62",
   "metadata": {},
   "source": [
    "Saving the best Regression Model\n",
    "as the r2 score of the random forest is max 82% we consider it as the best model"
   ]
  },
  {
   "cell_type": "markdown",
   "id": "776aa52b",
   "metadata": {},
   "source": [
    "import pickle\n",
    "filename = 'Avocado Average Price.pkl'\n",
    "pickle.dump(Rrf,open(filename,'wb'))"
   ]
  },
  {
   "cell_type": "markdown",
   "id": "85d8c6cd",
   "metadata": {},
   "source": [
    "# Classification Model"
   ]
  },
  {
   "cell_type": "code",
   "execution_count": null,
   "id": "eb643dbf",
   "metadata": {},
   "outputs": [],
   "source": [
    "from sklearn.linear_model import LogisticRegression\n",
    "from sklearn.metrics import accuracy_score\n",
    "from sklearn.metrics import confusion_matrix,classification_report\n",
    "from sklearn.model_selection import train_test_split\n",
    "\n",
    "maxAcc=0\n",
    "maxRs=0\n",
    "\n",
    "for i in range(1,200):\n",
    "  x_train,x_test,y_train,y_test=train_test_split(x2,y2,test_size=.20,random_state=i)\n",
    "  lr=LogisticRegression()\n",
    "  lr.fit(x_train,y_train)\n",
    "  predrf=lr.predict(x_test)\n",
    "  acc=accuracy_score(y_test,predrf)\n",
    "  if acc>maxAcc:\n",
    "    maxAcc=acc\n",
    "    maxRs=i\n",
    "\n",
    "print(\"Best Accuracy is\",maxAcc*100,\"on Random State\",maxRs)"
   ]
  },
  {
   "cell_type": "code",
   "execution_count": null,
   "id": "e9db5ecc",
   "metadata": {},
   "outputs": [],
   "source": [
    "x_train,x_test,y_train,y_test=train_test_split(x2,y2,test_size=.20,random_state=44)\n"
   ]
  },
  {
   "cell_type": "markdown",
   "id": "31634f2e",
   "metadata": {},
   "source": [
    "# Logistic Regression"
   ]
  },
  {
   "cell_type": "code",
   "execution_count": null,
   "id": "1b30ee6c",
   "metadata": {},
   "outputs": [],
   "source": [
    "\n",
    "Lr=LogisticRegression()\n",
    "Lr.fit(x_train,y_train)\n",
    "predlr=Lr.predict(x_test)\n",
    "print(\"Accuracy\",accuracy_score(y_test,predlr)*100)\n",
    "print(confusion_matrix(y_test,predlr))\n",
    "print(classification_report(y_test,predlr))"
   ]
  },
  {
   "cell_type": "markdown",
   "id": "17697f41",
   "metadata": {},
   "source": [
    "# Decission tree Classifier"
   ]
  },
  {
   "cell_type": "code",
   "execution_count": null,
   "id": "9af70e05",
   "metadata": {},
   "outputs": [],
   "source": [
    "from sklearn.tree import DecisionTreeClassifier\n",
    "\n",
    "dtr=DecisionTreeClassifier()\n",
    "dtr.fit(x_train,y_train)\n",
    "preddtr=dtr.predict(x_test)\n",
    "print(\"Accuracy\",accuracy_score(y_test,preddtr)*100)\n",
    "print(confusion_matrix(y_test,preddtr))\n",
    "print(classification_report(y_test,preddtr))"
   ]
  },
  {
   "cell_type": "markdown",
   "id": "c778ea6b",
   "metadata": {},
   "source": [
    "# Support Vector Classifier"
   ]
  },
  {
   "cell_type": "code",
   "execution_count": null,
   "id": "ac3ae5e0",
   "metadata": {},
   "outputs": [],
   "source": [
    "from sklearn.svm import SVC\n",
    "\n",
    "svc=SVC()\n",
    "svc.fit(x_train,y_train)\n",
    "\n",
    "ad_pred=svc.predict(x_test)\n",
    "\n",
    "print(\"Accuracy\",accuracy_score(y_test,ad_pred)*100)\n",
    "print(confusion_matrix(y_test,ad_pred))\n",
    "print(classification_report(y_test,ad_pred))"
   ]
  },
  {
   "cell_type": "markdown",
   "id": "fddb38b5",
   "metadata": {},
   "source": [
    "# Random Forest Classifier\n"
   ]
  },
  {
   "cell_type": "code",
   "execution_count": null,
   "id": "2cb907c0",
   "metadata": {},
   "outputs": [],
   "source": [
    "from sklearn.ensemble import RandomForestClassifier\n",
    "\n",
    "\n",
    "Rrf=RandomForestClassifier()\n",
    "Rrf.fit(x_train,y_train)\n",
    "\n",
    "Rrf_pred=Rrf.predict(x_test)\n",
    "\n",
    "print(\"Accuracy\",accuracy_score(y_test,Rrf_pred)*100)\n",
    "print(confusion_matrix(y_test,Rrf_pred))\n",
    "print(classification_report(y_test,Rrf_pred))"
   ]
  },
  {
   "cell_type": "code",
   "execution_count": null,
   "id": "b96f6a7c",
   "metadata": {},
   "outputs": [],
   "source": [
    "#Hypere Parameter Tuning\n",
    "from sklearn.model_selection import GridSearchCV\n",
    "\n",
    "# Creating Parameter List to pass in Grid SearchCV\n",
    "\n",
    "parameters = {'max_features': ['auto','sqrt','log2'],\n",
    "              'max_depth' : [4,5,6,7,8],\n",
    "              'criterion' :['gini','entropy']}"
   ]
  },
  {
   "cell_type": "code",
   "execution_count": null,
   "id": "cb598215",
   "metadata": {},
   "outputs": [],
   "source": [
    "gcv=GridSearchCV(RandomForestClassifier(),parameters,cv=5,scoring=\"accuracy\")\n",
    "gcv.fit(x_train,y_train)\n",
    "gcv.best_params_"
   ]
  },
  {
   "cell_type": "code",
   "execution_count": null,
   "id": "44e945d6",
   "metadata": {},
   "outputs": [],
   "source": [
    "gcv_pred=gcv.best_estimator_.predict(x_test)\n",
    "accuracy_score(y_test,gcv_pred)"
   ]
  },
  {
   "cell_type": "code",
   "execution_count": null,
   "id": "66a44279",
   "metadata": {},
   "outputs": [],
   "source": [
    "##Saving the Best Model\n",
    "since the accuracy score of Random forest classifier is 92 % we save it\n",
    "\n",
    "import pickle\n",
    "filename = 'Avocado Region.pkl'\n",
    "pickle.dump(Rrf,open(filename,'wb'))"
   ]
  },
  {
   "cell_type": "code",
   "execution_count": null,
   "id": "7d4961cd",
   "metadata": {},
   "outputs": [],
   "source": []
  },
  {
   "cell_type": "code",
   "execution_count": null,
   "id": "b289951f",
   "metadata": {},
   "outputs": [],
   "source": []
  },
  {
   "cell_type": "code",
   "execution_count": null,
   "id": "712a1549",
   "metadata": {},
   "outputs": [],
   "source": []
  }
 ],
 "metadata": {
  "kernelspec": {
   "display_name": "Python 3",
   "language": "python",
   "name": "python3"
  },
  "language_info": {
   "codemirror_mode": {
    "name": "ipython",
    "version": 3
   },
   "file_extension": ".py",
   "mimetype": "text/x-python",
   "name": "python",
   "nbconvert_exporter": "python",
   "pygments_lexer": "ipython3",
   "version": "3.8.8"
  }
 },
 "nbformat": 4,
 "nbformat_minor": 5
}
