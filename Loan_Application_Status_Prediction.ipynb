{
 "cells": [
  {
   "cell_type": "markdown",
   "id": "4ab85c72",
   "metadata": {},
   "source": [
    "LOAN\n",
    "In finance, a loan is the lending of money by one or more individuals, organizations, or other entities to other individuals, organizations etc. The recipient (i.e., the borrower) incurs a debt and is usually liable to pay interest on that debt until it is repaid as well as to repay the principal amount borrowed.\n",
    "\n",
    "The document evidencing the debt (e.g., a promissory note) will normally specify, among other things, the principal amount of money borrowed, the interest rate the lender is charging, and the date of repayment. A loan entails the reallocation of the subject asset(s) for a period of time, between the lender and the borrower.\n",
    "\n",
    "The interest provides an incentive for the lender to engage in the loan. In a legal loan, each of these obligations and restrictions is enforced by contract, which can also place the borrower under additional restrictions known as loan covenants. Although this article focuses on monetary loans, in practice, any material object might be lent.\n",
    "\n",
    "Acting as a provider of loans is one of the main activities of financial institutions such as banks and credit card companies. For other institutions, issuing of debt contracts such as bonds is a typical source of funding.\n",
    "\n"
   ]
  },
  {
   "cell_type": "markdown",
   "id": "6999c315",
   "metadata": {},
   "source": [
    "DATA DESCRIPTION\n",
    "Problem Statement: This dataset includes details of applicants who have applied for loan. The dataset includes details like credit history, loan amount, their income, dependents etc.\n",
    "\n",
    "Independent Variables:\n",
    "\n",
    "Loan_ID\n",
    "\n",
    "Gender\n",
    "\n",
    "Married\n",
    "\n",
    "Dependents\n",
    "\n",
    "Education\n",
    "\n",
    "Self_Employed\n",
    "\n",
    "ApplicantIncome\n",
    "\n",
    "CoapplicantIncome\n",
    "\n",
    "Loan_Amount\n",
    "\n",
    "Loan_Amount_Term\n",
    "\n",
    "Credit History\n",
    "\n",
    "Property_Area\n",
    "\n",
    "Dependent Variable (Target Variable):\n",
    "\n",
    "Loan_Status\n",
    "You have to build a model that can predict whether the loan of the applicant will be approved or not on the basis of the details provided in the dataset."
   ]
  },
  {
   "cell_type": "code",
   "execution_count": null,
   "id": "21dbca27",
   "metadata": {},
   "outputs": [],
   "source": [
    "##The Dataset"
   ]
  },
  {
   "cell_type": "code",
   "execution_count": null,
   "id": "c69b1618",
   "metadata": {},
   "outputs": [],
   "source": [
    "import pandas as pd\n",
    "import numpy as np\n",
    "\n",
    "path ='https://raw.githubusercontent.com/dsrscientist/DSData/master/loan_prediction.csv'\n",
    "df= pd.read_csv(path)\n",
    "df\n"
   ]
  },
  {
   "cell_type": "code",
   "execution_count": null,
   "id": "0c238752",
   "metadata": {},
   "outputs": [],
   "source": [
    "df.head()"
   ]
  },
  {
   "cell_type": "code",
   "execution_count": null,
   "id": "502694ac",
   "metadata": {},
   "outputs": [],
   "source": [
    "df.tail()"
   ]
  },
  {
   "cell_type": "code",
   "execution_count": null,
   "id": "929abf0a",
   "metadata": {},
   "outputs": [],
   "source": [
    "df.columns"
   ]
  },
  {
   "cell_type": "markdown",
   "id": "ded4a3ef",
   "metadata": {},
   "source": [
    "##Details About the Columns\n",
    "1. Loan Id \n",
    "\n",
    "This Column Shows the Applicants Unique Loan Application Id\n",
    "\n",
    "2. Gender\n",
    "\n",
    "This Column Shows the Applicants Gender\n",
    "\n",
    "3. Married\n",
    "\n",
    "This Column Shows the Applicants Marital Status\n",
    "\n",
    "4. Dependants\n",
    "\n",
    "This Column Shows the Applicants Dependant on and how many\n",
    "\n",
    "5. Education\n",
    "\n",
    "This Column Shows the Applicants Education level\n",
    "\n",
    "6. Self_Employed\n",
    "\n",
    "This Column Shows the Applicants Occupation Sector\n",
    "\n",
    "7. Application_Income\n",
    "\n",
    "This Column Shows the Applicants Income\n",
    "\n",
    "8. Coapplicant_Income\n",
    "\n",
    "This Column Shows the Applicants Partners Income\n",
    "\n",
    "9. Loan_Amount\n",
    "\n",
    "This Column Shows the Applicants Desired Loan Amount\n",
    "\n",
    "Loan Amount Term\n",
    "This Column Shows the Applicants\n",
    "\n",
    "Credit History\n",
    "This Column Shows the Applicants Past loan Credit History\n",
    "\n",
    "12. Property Area\n",
    "\n",
    "This Column Shows the Applicants Property area\n",
    "\n",
    "13. Loan Status\n",
    "\n",
    "This Column Shows the Applicants Loan will be approved or not"
   ]
  },
  {
   "cell_type": "code",
   "execution_count": null,
   "id": "d00a3352",
   "metadata": {},
   "outputs": [],
   "source": [
    "#Data Exploration\n",
    "cat_cols=df.select_dtypes([object])\n",
    "\n",
    "for col in cat_cols.columns:\n",
    "    print(col)\n",
    "    print(df[col].value_counts())\n",
    "    print('************************************')"
   ]
  },
  {
   "cell_type": "code",
   "execution_count": null,
   "id": "ff0edb90",
   "metadata": {},
   "outputs": [],
   "source": [
    "df['CoapplicantIncome'].value_counts()"
   ]
  },
  {
   "cell_type": "code",
   "execution_count": null,
   "id": "a6b1bb7d",
   "metadata": {},
   "outputs": [],
   "source": [
    "df['CoapplicantIncome'] = pd.cut(df['CoapplicantIncome'], bins = [0,1000,3000,42000], labels = ['Low','Average','High'])\n"
   ]
  },
  {
   "cell_type": "code",
   "execution_count": null,
   "id": "e8681dbd",
   "metadata": {},
   "outputs": [],
   "source": [
    "df['CoapplicantIncome'].value_counts()"
   ]
  },
  {
   "cell_type": "code",
   "execution_count": null,
   "id": "3bd01f1a",
   "metadata": {},
   "outputs": [],
   "source": [
    "df['ApplicantIncome'].value_counts()"
   ]
  },
  {
   "cell_type": "code",
   "execution_count": null,
   "id": "8811f5c6",
   "metadata": {},
   "outputs": [],
   "source": [
    "df['ApplicantIncome'] = pd.cut(df['ApplicantIncome'], bins = [0,2500,4000,6000,81000], labels = ['Low','Average','High', 'Very high'])\n",
    "df['ApplicantIncome'].value_counts()"
   ]
  },
  {
   "cell_type": "code",
   "execution_count": null,
   "id": "b4a67b6c",
   "metadata": {},
   "outputs": [],
   "source": [
    "df['Total_Income']=df['ApplicantIncome']+df['CoapplicantIncome']\n"
   ]
  },
  {
   "cell_type": "code",
   "execution_count": null,
   "id": "2c76dbb1",
   "metadata": {},
   "outputs": [],
   "source": [
    "df['Total_Income'].value_counts()"
   ]
  },
  {
   "cell_type": "code",
   "execution_count": null,
   "id": "cfbc6c2f",
   "metadata": {},
   "outputs": [],
   "source": [
    "f['Total_Income'] = pd.cut(df['Total_Income'], bins = [0,2500,4000,6000,81000], labels = ['Low','Average','High', 'Very high'])\n",
    "df['Total_Income'].value_counts()"
   ]
  },
  {
   "cell_type": "code",
   "execution_count": null,
   "id": "f03aedd8",
   "metadata": {},
   "outputs": [],
   "source": []
  },
  {
   "cell_type": "code",
   "execution_count": null,
   "id": "1f4317eb",
   "metadata": {},
   "outputs": [],
   "source": [
    "df['LoanAmount'].value_counts()"
   ]
  },
  {
   "cell_type": "code",
   "execution_count": null,
   "id": "6c76448e",
   "metadata": {},
   "outputs": [],
   "source": [
    "df['LoanAmount'] = pd.cut(df['LoanAmount'], bins = [0,100,200,700], labels = ['Low','Average','High'])\n",
    "df['LoanAmount'].value_counts()"
   ]
  },
  {
   "cell_type": "code",
   "execution_count": null,
   "id": "6b1b7823",
   "metadata": {},
   "outputs": [],
   "source": [
    "df['Loan_Amount_Term'].value_counts()\n"
   ]
  },
  {
   "cell_type": "code",
   "execution_count": null,
   "id": "454925ea",
   "metadata": {},
   "outputs": [],
   "source": [
    "df['Loan_Amount_Term'] = pd.cut(df['Loan_Amount_Term'], bins = [0,100,200,700], labels = ['Low','Average','High'])\n",
    "df['Loan_Amount_Term'].value_counts()"
   ]
  },
  {
   "cell_type": "code",
   "execution_count": null,
   "id": "a95be2e1",
   "metadata": {},
   "outputs": [],
   "source": [
    "##Checking null values\n",
    "df.isnull().sum()"
   ]
  },
  {
   "cell_type": "code",
   "execution_count": null,
   "id": "6ff130c6",
   "metadata": {},
   "outputs": [],
   "source": [
    "#checking of the data types of the dataset\n",
    "df.dtypes"
   ]
  },
  {
   "cell_type": "code",
   "execution_count": null,
   "id": "54308a11",
   "metadata": {},
   "outputs": [],
   "source": [
    "import seaborn as sns\n",
    "import matplotlib.pyplot as plt\n",
    "\n",
    "sns.heatmap(df.isnull())\n",
    "plt.title(\"Null Values\")\n",
    "plt.show()"
   ]
  },
  {
   "cell_type": "code",
   "execution_count": null,
   "id": "968bd814",
   "metadata": {},
   "outputs": [],
   "source": [
    "df.describe(include=['O'])"
   ]
  },
  {
   "cell_type": "markdown",
   "id": "0eb50d2b",
   "metadata": {},
   "source": [
    "For Integer Datatype Columns with missing Values we use Mean method\n",
    "\n",
    "For Object Datatype Columns with missing Values we use Mode Method\n",
    "\n",
    "For Float Datatype Columns with missing Values we use Median Method"
   ]
  },
  {
   "cell_type": "code",
   "execution_count": null,
   "id": "3dc59c1e",
   "metadata": {},
   "outputs": [],
   "source": [
    "df['Gender'].fillna(df['Gender'].mode()[0], inplace=True)\n",
    "df['Married'].fillna(df['Married'].mode()[0], inplace=True)\n",
    "df['Dependents'].fillna(df['Dependents'].mode()[0], inplace=True)\n",
    "df['CoapplicantIncome'].fillna(df['CoapplicantIncome'].mode()[0], inplace=True)\n",
    "df['Self_Employed'].fillna(df['Self_Employed'].mode()[0], inplace=True)\n",
    "df['LoanAmount'].fillna(df['LoanAmount'].mode()[0], inplace=True)\n",
    "df['Loan_Amount_Term'].fillna(df['Loan_Amount_Term'].mode()[0], inplace=True)\n",
    "df['Credit_History'].fillna(df['Credit_History'].mode()[0], inplace=True)\n",
    "df.isnull().sum()"
   ]
  },
  {
   "cell_type": "code",
   "execution_count": null,
   "id": "c0a5a7f8",
   "metadata": {},
   "outputs": [],
   "source": [
    "df.shape"
   ]
  },
  {
   "cell_type": "code",
   "execution_count": null,
   "id": "91679cbf",
   "metadata": {},
   "outputs": [],
   "source": [
    "##Transformation for balancing\n",
    "df.info()"
   ]
  },
  {
   "cell_type": "code",
   "execution_count": null,
   "id": "d9dff68d",
   "metadata": {},
   "outputs": [],
   "source": [
    "df.dtypes"
   ]
  },
  {
   "cell_type": "code",
   "execution_count": null,
   "id": "f803b82e",
   "metadata": {},
   "outputs": [],
   "source": [
    "df.describe(include=['O'])"
   ]
  },
  {
   "cell_type": "code",
   "execution_count": null,
   "id": "d6d79ec5",
   "metadata": {},
   "outputs": [],
   "source": [
    "from sklearn.preprocessing import LabelEncoder\n",
    "le =LabelEncoder()\n",
    "\n",
    "list1=['Gender','Married','Dependents','Education','Self_Employed','Property_Area','ApplicantIncome','Loan_Status','CoapplicantIncome','LoanAmount','Total_Income','Credit_History','Loan_Amount_Term']\n",
    "for val in list1:\n",
    "  df[val]=le.fit_transform(df[val].astype(str))"
   ]
  },
  {
   "cell_type": "code",
   "execution_count": null,
   "id": "e3167abd",
   "metadata": {},
   "outputs": [],
   "source": [
    "df.head()"
   ]
  },
  {
   "cell_type": "code",
   "execution_count": null,
   "id": "74acb863",
   "metadata": {},
   "outputs": [],
   "source": [
    "##Exploratory Data Analysis\n",
    "plt.figure(figsize =(12,6));\n",
    "sns.countplot(x = 'Loan_Status', data = df);\n",
    "plt.xlabel(\"Loan_Status\",fontsize = 12);\n",
    "plt.ylabel(\"Frequency\",fontsize = 12);\n",
    "plt.show()"
   ]
  },
  {
   "cell_type": "code",
   "execution_count": null,
   "id": "c5e4b5ae",
   "metadata": {},
   "outputs": [],
   "source": [
    "plt.figure(figsize = (10,6))\n",
    "plt.title(\"Comparision between Gender And Loan_Status\")\n",
    "sns.barplot(x = \"Gender\", y = \"Loan_Status\", data = df)\n",
    "plt.show()"
   ]
  },
  {
   "cell_type": "code",
   "execution_count": null,
   "id": "d704793a",
   "metadata": {},
   "outputs": [],
   "source": [
    "plt.figure(figsize = (10,6))\n",
    "plt.title(\"Comparision between Married And Loan_Status\")\n",
    "sns.barplot(x = \"Married\", y = \"Loan_Status\", data = df)\n",
    "plt.show()"
   ]
  },
  {
   "cell_type": "markdown",
   "id": "c4d3156e",
   "metadata": {},
   "source": [
    "We can see that the Married have optimized More for loan with great succes when applied which is not so in the Unmarried column"
   ]
  },
  {
   "cell_type": "code",
   "execution_count": null,
   "id": "e5c7798d",
   "metadata": {},
   "outputs": [],
   "source": [
    "plt.figure(figsize = (10,6))\n",
    "plt.title(\"Comparision between Self_Employed And Loan_Status\")\n",
    "sns.barplot(x = \"Self_Employed\", y = \"Loan_Status\", data = df)\n",
    "plt.show()"
   ]
  },
  {
   "cell_type": "markdown",
   "id": "e4403ce2",
   "metadata": {},
   "source": [
    "WE can see that most applicants who had provided for loans are not self emmployed and sucess rate also lower for them in loan status\n",
    "\n"
   ]
  },
  {
   "cell_type": "code",
   "execution_count": null,
   "id": "6a71c9aa",
   "metadata": {},
   "outputs": [],
   "source": [
    "plt.figure(figsize = (10,6))\n",
    "plt.title(\"Comparision between Credit_History And Loan_Status\")\n",
    "sns.barplot(x = \"Credit_History\", y = \"Loan_Status\", data = df)\n",
    "plt.show()"
   ]
  },
  {
   "cell_type": "code",
   "execution_count": null,
   "id": "8de1abb3",
   "metadata": {},
   "outputs": [],
   "source": [
    "plt.figure(1)\n",
    "plt.subplot(221)\n",
    "df['Gender'].value_counts(normalize=True).plot.bar(figsize=(20,10), title= 'Gender')\n",
    "\n",
    "plt.subplot(222)\n",
    "df['Married'].value_counts(normalize=True).plot.bar(title= 'Married')\n",
    "\n",
    "plt.subplot(223)\n",
    "df['Self_Employed'].value_counts(normalize=True).plot.bar(title= 'Self_Employed')\n",
    "\n",
    "plt.subplot(224)\n",
    "df['Credit_History'].value_counts(normalize=True).plot.bar(title= 'Credit_History')\n",
    "\n",
    "plt.show()\n"
   ]
  },
  {
   "cell_type": "code",
   "execution_count": null,
   "id": "74c30970",
   "metadata": {},
   "outputs": [],
   "source": [
    "lt.figure(figsize = (10,6))\n",
    "plt.title(\"Comparision between Dependents And Loan_Status\")\n",
    "sns.barplot(x = \"Dependents\", y = \"Loan_Status\", data = df)\n",
    "plt.show()\n"
   ]
  },
  {
   "cell_type": "code",
   "execution_count": null,
   "id": "1fa86c67",
   "metadata": {},
   "outputs": [],
   "source": [
    "plt.figure(figsize = (10,6))\n",
    "plt.title(\"Comparision between Property_Area And Loan_Status\")\n",
    "sns.barplot(x = \"Property_Area\", y = \"Loan_Status\", data = df)\n",
    "plt.show()"
   ]
  },
  {
   "cell_type": "code",
   "execution_count": null,
   "id": "243c989b",
   "metadata": {},
   "outputs": [],
   "source": [
    "plt.figure(1)\n",
    "plt.subplot(131)\n",
    "df['Dependents'].value_counts(normalize=True).plot.bar(figsize=(24,6), title= 'Dependents')\n",
    "\n",
    "plt.subplot(132)\n",
    "df['Education'].value_counts(normalize=True).plot.bar(title= 'Education')\n",
    "\n",
    "plt.subplot(133)\n",
    "df['Property_Area'].value_counts(normalize=True).plot.bar(title= 'Property_Area')\n",
    "\n",
    "plt.show()"
   ]
  },
  {
   "cell_type": "code",
   "execution_count": null,
   "id": "6be32a15",
   "metadata": {},
   "outputs": [],
   "source": [
    "plt.figure(figsize = (10,6))\n",
    "plt.title(\"Comparision between ApplicantIncome And Loan_Status\")\n",
    "sns.barplot(x = \"ApplicantIncome\", y = \"Loan_Status\", data = df)\n",
    "plt.show()"
   ]
  },
  {
   "cell_type": "code",
   "execution_count": null,
   "id": "2a4101aa",
   "metadata": {},
   "outputs": [],
   "source": [
    "plt.figure(figsize = (10,6))\n",
    "plt.title(\"Comparision between CoapplicantIncome And Loan_Status\")\n",
    "sns.barplot(x = \"CoapplicantIncome\", y = \"Loan_Status\", data = df)\n",
    "plt.show()\n"
   ]
  },
  {
   "cell_type": "code",
   "execution_count": null,
   "id": "828a9b87",
   "metadata": {},
   "outputs": [],
   "source": [
    "plt.figure(1)\n",
    "plt.subplot(121)\n",
    "sns.distplot(df['ApplicantIncome']);\n",
    "\n",
    "plt.subplot(122)\n",
    "df['ApplicantIncome'].plot.box(figsize=(16,5))\n",
    "\n",
    "plt.show()"
   ]
  },
  {
   "cell_type": "code",
   "execution_count": null,
   "id": "ff388dc8",
   "metadata": {},
   "outputs": [],
   "source": [
    "df['Education'].value_counts().plot.bar()"
   ]
  },
  {
   "cell_type": "code",
   "execution_count": null,
   "id": "34335a49",
   "metadata": {},
   "outputs": [],
   "source": [
    "df.hist(figsize=(15,30),edgecolor='red',layout=(5,3),bins=15,legend=True)\n",
    "plt.show()"
   ]
  },
  {
   "cell_type": "code",
   "execution_count": null,
   "id": "5d129f7b",
   "metadata": {},
   "outputs": [],
   "source": [
    "sns.pairplot(df)"
   ]
  },
  {
   "cell_type": "code",
   "execution_count": null,
   "id": "5d7bb951",
   "metadata": {},
   "outputs": [],
   "source": [
    "##Corealtion\n",
    "df.corr()"
   ]
  },
  {
   "cell_type": "code",
   "execution_count": null,
   "id": "0ce2d3ef",
   "metadata": {},
   "outputs": [],
   "source": [
    "# Coorelation with the Target Column Primary Fuel \n",
    "\n",
    "df.corr()['Loan_Status'].sort_values()"
   ]
  },
  {
   "cell_type": "code",
   "execution_count": null,
   "id": "ed54954a",
   "metadata": {},
   "outputs": [],
   "source": [
    "import matplotlib.pyplot as plt\n",
    "import seaborn as sns\n",
    "plt.figure(figsize=(15,7))\n",
    "sns.heatmap(df.corr(), annot=True, linewidths=0.5,linecolor=\"black\", fmt='.2f')\n"
   ]
  },
  {
   "cell_type": "code",
   "execution_count": null,
   "id": "3d83e17c",
   "metadata": {},
   "outputs": [],
   "source": [
    "# Dropping the irrelevant columns..\n",
    "\n",
    "df.drop(columns=[\"Loan_ID\"], axis=1, inplace=True)"
   ]
  },
  {
   "cell_type": "code",
   "execution_count": null,
   "id": "5f1e1352",
   "metadata": {},
   "outputs": [],
   "source": [
    "##Descriptive Statistics\n",
    "df.describe()"
   ]
  },
  {
   "cell_type": "code",
   "execution_count": null,
   "id": "31356e6b",
   "metadata": {},
   "outputs": [],
   "source": [
    "plt.figure(figsize=(15,7))\n",
    "sns.heatmap(round(df.describe()[1:].transpose(),2), annot=True, linewidths=0.5,linecolor=\"black\", fmt='f')\n"
   ]
  },
  {
   "cell_type": "code",
   "execution_count": null,
   "id": "1482b259",
   "metadata": {},
   "outputs": [],
   "source": [
    "df.info()"
   ]
  },
  {
   "cell_type": "code",
   "execution_count": null,
   "id": "ea1dfc89",
   "metadata": {},
   "outputs": [],
   "source": [
    "##Checking Data To Remove Skewness\n",
    "my_column1 = df.pop('Loan_Status')\n",
    "df.insert(12,'Loan_Status', my_column1) \n",
    "\n",
    "\n",
    "df.head()\n"
   ]
  },
  {
   "cell_type": "code",
   "execution_count": null,
   "id": "6d621b0a",
   "metadata": {},
   "outputs": [],
   "source": [
    "df.iloc[:,:-1].skew()"
   ]
  },
  {
   "cell_type": "code",
   "execution_count": null,
   "id": "c5a41ea5",
   "metadata": {},
   "outputs": [],
   "source": [
    "#We can see that the data is a litte skewed..\n",
    "\n",
    "#using yeo johnson method to remove skewness\n",
    "\n",
    "from sklearn.preprocessing import power_transform\n",
    "x_new=power_transform(df.iloc[:,:-1],method='yeo-johnson')\n",
    "\n",
    "df.iloc[:,:-1]=pd.DataFrame(x_new,columns=df.iloc[:,:-1].columns)\n",
    "df.iloc[:,:-1].skew()"
   ]
  },
  {
   "cell_type": "code",
   "execution_count": null,
   "id": "2521212d",
   "metadata": {},
   "outputs": [],
   "source": [
    "Outliers Checking\n",
    "import warnings\n",
    "warnings.filterwarnings('ignore')\n",
    "df.plot(kind='box',subplots=True, layout=(3,5), figsize=[20,8])\n"
   ]
  },
  {
   "cell_type": "markdown",
   "id": "07965743",
   "metadata": {},
   "source": [
    "# IQR Proximity Rule\n",
    "Z - Score Technique"
   ]
  },
  {
   "cell_type": "code",
   "execution_count": null,
   "id": "db98ee33",
   "metadata": {},
   "outputs": [],
   "source": [
    "from scipy.stats import zscore\n",
    "import numpy as np\n",
    "z=np.abs(zscore(df))\n",
    "z.shape"
   ]
  },
  {
   "cell_type": "code",
   "execution_count": null,
   "id": "9edd806d",
   "metadata": {},
   "outputs": [],
   "source": [
    "threshold=3\n",
    "print(np.where(z>3))"
   ]
  },
  {
   "cell_type": "code",
   "execution_count": null,
   "id": "171c894c",
   "metadata": {},
   "outputs": [],
   "source": [
    "len(np.where(z>3)[0])"
   ]
  },
  {
   "cell_type": "code",
   "execution_count": null,
   "id": "1daf9e14",
   "metadata": {},
   "outputs": [],
   "source": [
    "df.drop([68, 242, 262, 313, 495, 497, 546, 575, 585],axis=0)\n"
   ]
  },
  {
   "cell_type": "code",
   "execution_count": null,
   "id": "f8cc66e4",
   "metadata": {},
   "outputs": [],
   "source": [
    "df=df[(z<3).all(axis=1)]\n",
    "df.shape"
   ]
  },
  {
   "cell_type": "code",
   "execution_count": null,
   "id": "a7fdfdce",
   "metadata": {},
   "outputs": [],
   "source": [
    "#Feature Engineering ( VIF)\n",
    "from statsmodels.stats.outliers_influence import variance_inflation_factor\n",
    "df.corr()"
   ]
  },
  {
   "cell_type": "code",
   "execution_count": null,
   "id": "dccbfa28",
   "metadata": {},
   "outputs": [],
   "source": [
    "plt.figure(figsize=(25,22))\n",
    "sns.heatmap(df.corr(),linewidths=.1,vmin=-1, vmax=1, fmt='.2g', annot = True, linecolor=\"black\",annot_kws={'size':15},cmap=\"YlGnBu\")\n",
    "plt.yticks(rotation=0)"
   ]
  },
  {
   "cell_type": "code",
   "execution_count": null,
   "id": "b3806ef8",
   "metadata": {},
   "outputs": [],
   "source": [
    "x=df.drop('Loan_Status',axis=1)\n",
    "y=df['Loan_Status']"
   ]
  },
  {
   "cell_type": "code",
   "execution_count": null,
   "id": "b46a1162",
   "metadata": {},
   "outputs": [],
   "source": [
    "x"
   ]
  },
  {
   "cell_type": "code",
   "execution_count": null,
   "id": "b893e27f",
   "metadata": {},
   "outputs": [],
   "source": [
    "y"
   ]
  },
  {
   "cell_type": "code",
   "execution_count": null,
   "id": "4533226a",
   "metadata": {},
   "outputs": [],
   "source": [
    "def vif_calc():\n",
    "  vif=pd.DataFrame()\n",
    "  vif[\"VIF Factor\"]=[variance_inflation_factor(x.values,i) for i in range(x.shape[1])]\n",
    "  vif[\"features\"]=x.columns\n",
    "  print(vif)\n",
    "    "
   ]
  },
  {
   "cell_type": "code",
   "execution_count": null,
   "id": "8021ba8f",
   "metadata": {},
   "outputs": [],
   "source": [
    "vif_calc()"
   ]
  },
  {
   "cell_type": "code",
   "execution_count": null,
   "id": "6d09ac02",
   "metadata": {},
   "outputs": [],
   "source": [
    "#Scaling\n",
    "from sklearn.preprocessing import StandardScaler\n",
    "sc=StandardScaler()\n",
    "x=pd.DataFrame(sc.fit_transform(x), columns=x.columns)\n",
    "x"
   ]
  },
  {
   "cell_type": "markdown",
   "id": "c80c2b7c",
   "metadata": {},
   "source": [
    "##MODELLING\n",
    "Building CLASSIFICATION Model As Target Column's Has only Two Outputs"
   ]
  },
  {
   "cell_type": "code",
   "execution_count": null,
   "id": "9da8814b",
   "metadata": {},
   "outputs": [],
   "source": [
    "import seaborn as sns\n",
    "import matplotlib.pyplot as plt\n",
    "\n",
    "print(df['Loan_Status'].value_counts())  \n",
    "plt.figure(figsize=(5,5))\n",
    "sns.countplot(df['Loan_Status'])\n",
    "plt.show()"
   ]
  },
  {
   "cell_type": "code",
   "execution_count": null,
   "id": "630c0b68",
   "metadata": {},
   "outputs": [],
   "source": [
    "#OverSampling\n",
    "from imblearn.over_sampling import SMOTE\n",
    "sm = SMOTE()\n",
    "x, y = sm.fit_resample(x,y)\n",
    "y.value_counts()"
   ]
  },
  {
   "cell_type": "code",
   "execution_count": null,
   "id": "48b81b22",
   "metadata": {},
   "outputs": [],
   "source": [
    "Getting the best random state\n",
    "from sklearn.model_selection import train_test_split\n",
    "from sklearn.linear_model import LogisticRegression\n",
    "from sklearn.tree import DecisionTreeClassifier\n",
    "from sklearn.ensemble import RandomForestClassifier\n",
    "from sklearn.svm import SVC\n",
    "from sklearn.neighbors import KNeighborsClassifier as KNN\n",
    "from sklearn.ensemble import GradientBoostingClassifier, BaggingClassifier\n",
    "from sklearn.metrics import classification_report, confusion_matrix, roc_curve, accuracy_score\n",
    "from sklearn.metrics import classification_report, accuracy_score\n",
    "from sklearn.model_selection import cross_val_score\n",
    "from sklearn import metrics\n",
    "from sklearn.model_selection import GridSearchCV\n",
    "\n",
    "maxAccu=0\n",
    "maxRS=0\n",
    "\n",
    "for i in range(1,200):\n",
    "    x_train,x_test, y_train, y_test=train_test_split(x,y,test_size=.30, random_state=i)\n",
    "    rfc=RandomForestClassifier()\n",
    "    rfc.fit(x_train,y_train)\n",
    "    pred=rfc.predict(x_test)\n",
    "    acc=accuracy_score(y_test,pred)\n",
    "    if acc>maxAccu:\n",
    "        maxAccu=acc\n",
    "        maxRS=i\n",
    "print(\"Best accuracy is \",maxAccu*100,\" on Random_state \",maxRS)\n"
   ]
  },
  {
   "cell_type": "code",
   "execution_count": null,
   "id": "cf52f4fd",
   "metadata": {},
   "outputs": [],
   "source": [
    "x_train,x_test,y_train,y_test=train_test_split(x,y,test_size=.30,random_state=maxRS)\n"
   ]
  },
  {
   "cell_type": "code",
   "execution_count": null,
   "id": "5c6b3558",
   "metadata": {},
   "outputs": [],
   "source": [
    "#Logistic Regression\n",
    "# Checking Accuracy for Logistic Regression\n",
    "log = LogisticRegression()\n",
    "log.fit(x_train,y_train)\n",
    "\n",
    "#Prediction\n",
    "predlog = log.predict(x_test)\n",
    "\n",
    "print(accuracy_score(y_test, predlog)*100)\n",
    "print(confusion_matrix(y_test, predlog))\n",
    "print(classification_report(y_test,predlog))"
   ]
  },
  {
   "cell_type": "code",
   "execution_count": null,
   "id": "fdab4c1e",
   "metadata": {},
   "outputs": [],
   "source": [
    "# Plotting Confusion_Matrix\n",
    "cm = confusion_matrix(y_test,predlog)\n",
    "\n",
    "x_axis_labels = [\"0\",\"1\"]\n",
    "y_axis_labels = [\"0\",\"1\"]\n",
    "\n",
    "f , ax = plt.subplots(figsize=(5,5))\n",
    "sns.heatmap(cm, annot = True,linewidths=.2, linecolor=\"black\", fmt = \".0f\", ax=ax, cmap=\"BuGn\",xticklabels=x_axis_labels,yticklabels=y_axis_labels)\n",
    "plt.xlabel(\"PREDICTED LABEL\")\n",
    "plt.ylabel(\"TRUE LABEL\")\n",
    "plt.title('Confusion Matrix for LogisticRegression')\n",
    "plt.show()"
   ]
  },
  {
   "cell_type": "code",
   "execution_count": null,
   "id": "faa1f6b3",
   "metadata": {},
   "outputs": [],
   "source": [
    "##Random Forest Classifier\n",
    "# Checking accuracy for Random Forest Classifier\n",
    "rf = RandomForestClassifier()\n",
    "rf.fit(x_train,y_train)\n",
    "\n",
    "# Prediction\n",
    "predrf = rf.predict(x_test)\n",
    "\n",
    "print(accuracy_score(y_test, predrf)*100)\n",
    "print(confusion_matrix(y_test, predrf))\n",
    "print(classification_report(y_test,predrf))"
   ]
  },
  {
   "cell_type": "code",
   "execution_count": null,
   "id": "6cfede07",
   "metadata": {},
   "outputs": [],
   "source": [
    "# Lets plot confusion matrix for RandomForestClassifier\n",
    "cm = confusion_matrix(y_test,predrf)\n",
    "\n",
    "x_axis_labels = [\"0\",\"1\"]\n",
    "y_axis_labels = [\"0\",\"1\"]\n",
    "\n",
    "f , ax = plt.subplots(figsize=(5,5))\n",
    "sns.heatmap(cm, annot = True,linewidths=0.2, linecolor=\"black\", fmt = \".0f\", ax=ax, cmap=\"BuGn\",xticklabels=x_axis_labels,yticklabels=y_axis_labels)\n",
    "plt.xlabel(\"PREDICTED LABEL\")\n",
    "plt.ylabel(\"TRUE LABEL\")\n",
    "plt.title('Confusion Matrix for RandomForestClassifier')\n",
    "plt.show()"
   ]
  },
  {
   "cell_type": "code",
   "execution_count": null,
   "id": "83b1c815",
   "metadata": {},
   "outputs": [],
   "source": [
    "##Decission Tree Classifier\n",
    "# Checking Accuracy for Decision Tree Classifier\n",
    "dtc = DecisionTreeClassifier()\n",
    "dtc.fit(x_train,y_train)\n",
    "\n",
    "#Prediction\n",
    "preddtc = dtc.predict(x_test)\n",
    "\n",
    "print(accuracy_score(y_test, preddtc)*100)\n",
    "print(confusion_matrix(y_test, preddtc))\n",
    "print(classification_report(y_test,preddtc))"
   ]
  },
  {
   "cell_type": "code",
   "execution_count": null,
   "id": "fda90a46",
   "metadata": {},
   "outputs": [],
   "source": [
    "# Lets plot confusion matrix for DTC\n",
    "cm = confusion_matrix(y_test,preddtc)\n",
    "\n",
    "x_axis_labels = [\"0\",\"1\"]\n",
    "y_axis_labels = [\"0\",\"1\"]\n",
    "\n",
    "f , ax = plt.subplots(figsize=(5,5))\n",
    "sns.heatmap(cm, annot = True,linewidths=.2, linecolor=\"black\", fmt = \".0f\", ax=ax, cmap=\"BuGn\",xticklabels=x_axis_labels,yticklabels=y_axis_labels)\n",
    "plt.xlabel(\"PREDICTED LABEL\")\n",
    "plt.ylabel(\"TRUE LABEL\")\n",
    "plt.title('Confusion Matrix for Decision Tree Classifier')\n",
    "plt.show()"
   ]
  },
  {
   "cell_type": "code",
   "execution_count": null,
   "id": "7041db72",
   "metadata": {},
   "outputs": [],
   "source": [
    "#Cross Validation Score\n",
    "#cv score for Logistic Regression\n",
    "print(cross_val_score(log,x,y,cv=5).mean()*100)\n",
    "\n",
    "# cv score for Random Forest Classifier\n",
    "print(cross_val_score(rf,x,y,cv=5).mean()*100)\n",
    "\n",
    "# cv score for Decision Tree Classifier\n",
    "print(cross_val_score(dtc,x,y,cv=5).mean()*100)\n",
    "\n",
    "\n",
    "\n"
   ]
  },
  {
   "cell_type": "code",
   "execution_count": null,
   "id": "9bbf8bc2",
   "metadata": {},
   "outputs": [],
   "source": [
    "#HyperParameter Tuning for the model with best score\n",
    "#Random Forest Classifier\n",
    "\n",
    "parameters = {'criterion':['gini'],\n",
    "             'max_features':['auto'],\n",
    "             'n_estimators':[0,200],\n",
    "             'max_depth':[2,3,4,5,6,8]}"
   ]
  },
  {
   "cell_type": "code",
   "execution_count": null,
   "id": "65014dca",
   "metadata": {},
   "outputs": [],
   "source": [
    "GCV=GridSearchCV(RandomForestClassifier(),parameters,cv=5)\n",
    "GCV.fit(x_train,y_train)"
   ]
  },
  {
   "cell_type": "code",
   "execution_count": null,
   "id": "2ee56531",
   "metadata": {},
   "outputs": [],
   "source": [
    "GCV.best_params_"
   ]
  },
  {
   "cell_type": "code",
   "execution_count": null,
   "id": "5c1a2c47",
   "metadata": {},
   "outputs": [],
   "source": [
    "##Plotting ROC and compare AUC for the final model\n",
    "from sklearn.metrics import plot_roc_curve\n",
    "plot_roc_curve(Loan,x_test,y_test)\n",
    "plt.title(\"ROC AUC Plot\")\n",
    "plt.show()"
   ]
  },
  {
   "cell_type": "markdown",
   "id": "486c4db9",
   "metadata": {},
   "source": [
    "Conclusion:\n",
    "The accuracy score for Loan_Status is 92 %"
   ]
  },
  {
   "cell_type": "code",
   "execution_count": null,
   "id": "3f42b364",
   "metadata": {},
   "outputs": [],
   "source": [
    "Saving the model\n",
    "import joblib\n",
    "joblib.dump(Loan,\"Census_Income.pkl\")"
   ]
  }
 ],
 "metadata": {
  "kernelspec": {
   "display_name": "Python 3",
   "language": "python",
   "name": "python3"
  },
  "language_info": {
   "codemirror_mode": {
    "name": "ipython",
    "version": 3
   },
   "file_extension": ".py",
   "mimetype": "text/x-python",
   "name": "python",
   "nbconvert_exporter": "python",
   "pygments_lexer": "ipython3",
   "version": "3.8.8"
  }
 },
 "nbformat": 4,
 "nbformat_minor": 5
}
