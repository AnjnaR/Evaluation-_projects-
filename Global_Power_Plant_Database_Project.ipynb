{
 "cells": [
  {
   "cell_type": "markdown",
   "id": "55240095",
   "metadata": {},
   "source": [
    "#GLOBAL POWER PLANT\n",
    "A power station, also referred to as a power plant and sometimes generating station or generating plant, is an industrial facility for the generation of electric power. Power stations are generally connected to an electrical grid.\n",
    "\n",
    "Many power stations contain one or more generators, a rotating machine that converts mechanical power into three-phase electric power. The relative motion between a magnetic field and a conductor creates an electric current.\n",
    "\n",
    "The energy source harnessed to turn the generator varies widely. Most power stations in the world burn fossil fuels such as coal, oil, and natural gas to generate electricity. Low-carbon power sources include nuclear power, and an increasing use of renewables such as solar, wind, geothermal, and hydroelectric.\n",
    "\n",
    "#DATA DESCRIPTION\n",
    "The Global Power Plant Database is a comprehensive, open source database of power plants around the world. It centralizes power plant data to make it easier to navigate, compare and draw insights for one’s own analysis. The database covers approximately 35,000 power plants from 167 countries and includes thermal plants (e.g. coal, gas, oil, nuclear, biomass, waste, geothermal) and renewables (e.g. hydro, wind, solar). Each power plant is geolocated and entries contain information on plant capacity, generation, ownership, and fuel type. It will be continuously updated as data becomes available."
   ]
  },
  {
   "cell_type": "code",
   "execution_count": null,
   "id": "07fccc3b",
   "metadata": {},
   "outputs": [],
   "source": [
    "import pandas as pd\n",
    "import numpy as np\n",
    "\n",
    "df= pd.read_csv('https://raw.githubusercontent.com/wri/global-power-plant-database/master/source_databases_csv/database_IND.csv')\n",
    "df"
   ]
  },
  {
   "cell_type": "code",
   "execution_count": null,
   "id": "c4c48f07",
   "metadata": {},
   "outputs": [],
   "source": [
    "df.head()"
   ]
  },
  {
   "cell_type": "code",
   "execution_count": null,
   "id": "2579a5c9",
   "metadata": {},
   "outputs": [],
   "source": [
    "df.tail()"
   ]
  },
  {
   "cell_type": "code",
   "execution_count": null,
   "id": "89ea4dc8",
   "metadata": {},
   "outputs": [],
   "source": [
    "df.columns"
   ]
  },
  {
   "cell_type": "code",
   "execution_count": null,
   "id": "ef83798b",
   "metadata": {},
   "outputs": [],
   "source": [
    "#Checking for the Columns containing Null"
   ]
  },
  {
   "cell_type": "code",
   "execution_count": null,
   "id": "0cd157e9",
   "metadata": {},
   "outputs": [],
   "source": [
    "df.isnull().sum()"
   ]
  },
  {
   "cell_type": "code",
   "execution_count": null,
   "id": "fb0802d4",
   "metadata": {},
   "outputs": [],
   "source": [
    "#checking of the data types of the dataset\n",
    "df.dtypes"
   ]
  },
  {
   "cell_type": "code",
   "execution_count": null,
   "id": "192465d8",
   "metadata": {},
   "outputs": [],
   "source": [
    "import seaborn as sns\n",
    "import matplotlib.pyplot as plt\n",
    "\n",
    "sns.heatmap(df.isnull())\n",
    "plt.title(\"Null Values\")\n",
    "plt.show()"
   ]
  },
  {
   "cell_type": "code",
   "execution_count": null,
   "id": "5084e583",
   "metadata": {},
   "outputs": [],
   "source": [
    "df.describe(include=['O'])"
   ]
  },
  {
   "cell_type": "markdown",
   "id": "081bb68f",
   "metadata": {},
   "source": [
    "Filling the Columns with Null Blank Or Empty Values that are within Range or are Manageable upto some limit..\n",
    "\n",
    "For Integer Datatype Columns with missing Values we use Mean method\n",
    "\n",
    "For Object Datatype Columns with missing Values we use Mode Method\n",
    "\n",
    "For Float Datatype Columns with missing Values we use Median Method"
   ]
  },
  {
   "cell_type": "code",
   "execution_count": null,
   "id": "55d4900b",
   "metadata": {},
   "outputs": [],
   "source": [
    "df[\"latitude\"] = df[\"latitude\"].fillna(df[\"latitude\"].mean())\n",
    "df[\"other_fuel1\"] = df[\"other_fuel1\"].fillna(df[\"other_fuel1\"].mode()[0])\n",
    "df[\"geolocation_source\"] = df[\"geolocation_source\"].fillna(df[\"geolocation_source\"].mode()[0])\n",
    "df[\"longitude\"] = df[\"longitude\"].fillna(df[\"longitude\"].median())\n",
    "df[\"commissioning_year\"] = df[\"commissioning_year\"].fillna(df[\"commissioning_year\"].median())\n",
    "df[\"generation_gwh_2014\"] = df[\"generation_gwh_2014\"].fillna(df[\"generation_gwh_2014\"].median())\n",
    "df[\"generation_gwh_2015\"] = df[\"generation_gwh_2015\"].fillna(df[\"generation_gwh_2015\"].median())\n",
    "df[\"generation_gwh_2016\"] = df[\"generation_gwh_2016\"].fillna(df[\"generation_gwh_2016\"].median())\n",
    "df[\"generation_gwh_2017\"] = df[\"generation_gwh_2017\"].fillna(df[\"generation_gwh_2017\"].median())\n",
    "df[\"generation_gwh_2018\"] = df[\"generation_gwh_2018\"].fillna(df[\"generation_gwh_2018\"].median())\n"
   ]
  },
  {
   "cell_type": "markdown",
   "id": "4b42931c",
   "metadata": {},
   "source": [
    " we remove all those columns unwanted columns..\n",
    "    only IND is listed in the country hence there is no impact of these two features on prediction..\n",
    "    there are many columns that have No Values That is Complete Blank columns..\n",
    "    there are many irrelevant Columns present in the dataset..\n",
    "    also Columns with More UNIQUE Values with High Null Values Such as \"Owner\" , \"gppd_idnr\" , \"url\" Columns"
   ]
  },
  {
   "cell_type": "code",
   "execution_count": null,
   "id": "3904f21d",
   "metadata": {},
   "outputs": [],
   "source": [
    "# Dropping all the  irrelevant columns..\n",
    "\n",
    "df.drop(columns=[\"url\",\"owner\",\"gppd_idnr\",\"name\",\"country\",\"country_long\",\"other_fuel2\", \"year_of_capacity_data\",\"generation_data_source\",\"other_fuel3\",\"wepp_id\",\"estimated_generation_gwh\",\"generation_gwh_2013\",\"generation_gwh_2019\"], axis=1, inplace=True)\n"
   ]
  },
  {
   "cell_type": "code",
   "execution_count": null,
   "id": "31c137a9",
   "metadata": {},
   "outputs": [],
   "source": [
    "df.isnull().sum()"
   ]
  },
  {
   "cell_type": "code",
   "execution_count": null,
   "id": "2a31961e",
   "metadata": {},
   "outputs": [],
   "source": [
    "df.shape"
   ]
  },
  {
   "cell_type": "code",
   "execution_count": null,
   "id": "c407ca69",
   "metadata": {},
   "outputs": [],
   "source": [
    "##Checking and Transforming the Data types of the Columns To Same DataTypes for Better Analysis\n",
    "df.info()"
   ]
  },
  {
   "cell_type": "code",
   "execution_count": null,
   "id": "0d8e6440",
   "metadata": {},
   "outputs": [],
   "source": [
    "df.describe()"
   ]
  },
  {
   "cell_type": "code",
   "execution_count": null,
   "id": "d252792d",
   "metadata": {},
   "outputs": [],
   "source": [
    "# Checking the list of counts of capacity_mw\n",
    "df['capacity_mw'].value_counts()"
   ]
  },
  {
   "cell_type": "code",
   "execution_count": null,
   "id": "db6758d8",
   "metadata": {},
   "outputs": [],
   "source": [
    "# Checking the list of counts of primary_fuel\n",
    "df['primary_fuel'].value_counts()"
   ]
  },
  {
   "cell_type": "code",
   "execution_count": null,
   "id": "abe95efc",
   "metadata": {},
   "outputs": [],
   "source": [
    "# Checking the uniqueness of primary_fuel\n",
    "df[\"primary_fuel\"].unique()"
   ]
  },
  {
   "cell_type": "code",
   "execution_count": null,
   "id": "1c6a48ee",
   "metadata": {},
   "outputs": [],
   "source": [
    "from sklearn.preprocessing import LabelEncoder\n",
    "le =LabelEncoder()\n",
    "\n",
    "list1=['primary_fuel','other_fuel1','source','geolocation_source']\n",
    "for val in list1:\n",
    "  df[val]=le.fit_transform(df[val].astype(str))"
   ]
  },
  {
   "cell_type": "code",
   "execution_count": null,
   "id": "3e75bbc9",
   "metadata": {},
   "outputs": [],
   "source": [
    "df"
   ]
  },
  {
   "cell_type": "code",
   "execution_count": null,
   "id": "ca76d1b2",
   "metadata": {},
   "outputs": [],
   "source": [
    "df['commissioning_year'].value_counts()"
   ]
  },
  {
   "cell_type": "code",
   "execution_count": null,
   "id": "ccbecbd1",
   "metadata": {},
   "outputs": [],
   "source": [
    " #Let's extract power plant age from commissioning year by subtracting it from the year 2018\n",
    "\n",
    "df[\"Power_plant_age\"] = 2018 - df[\"commissioning_year\"]\n",
    "df.drop(columns=[\"commissioning_year\"], inplace = True)"
   ]
  },
  {
   "cell_type": "code",
   "execution_count": null,
   "id": "b767334d",
   "metadata": {},
   "outputs": [],
   "source": [
    "df"
   ]
  },
  {
   "cell_type": "markdown",
   "id": "f960af1d",
   "metadata": {},
   "source": [
    "# EDA"
   ]
  },
  {
   "cell_type": "code",
   "execution_count": null,
   "id": "eed833a8",
   "metadata": {},
   "outputs": [],
   "source": [
    "print(df['capacity_mw'].value_counts())  \n",
    "plt.figure(figsize=(10,10))\n",
    "sns.countplot(df['capacity_mw'])\n",
    "plt.show()"
   ]
  },
  {
   "cell_type": "code",
   "execution_count": null,
   "id": "fa5ceccd",
   "metadata": {},
   "outputs": [],
   "source": [
    "import seaborn as sns\n",
    "import matplotlib.pyplot as plt\n",
    "\n",
    "print(df['primary_fuel'].value_counts())  \n",
    "plt.figure(figsize=(5,5))\n",
    "sns.countplot(df['primary_fuel'])\n",
    "plt.show()"
   ]
  },
  {
   "cell_type": "code",
   "execution_count": null,
   "id": "f169d461",
   "metadata": {},
   "outputs": [],
   "source": [
    "plt.figure(figsize = (10,6))\n",
    "plt.title(\"Comparision between Primary Fuel and capacity_mw\")\n",
    "sns.barplot(x = \"primary_fuel\", y = \"capacity_mw\", data = df)\n",
    "plt.show()"
   ]
  },
  {
   "cell_type": "code",
   "execution_count": null,
   "id": "261315a3",
   "metadata": {},
   "outputs": [],
   "source": [
    "#checking the count of fuel1\n",
    "print(df['other_fuel1'].value_counts())\n",
    "plt.figure(figsize=(5,5))\n",
    "sns.countplot(df['other_fuel1'])\n",
    "plt.show()"
   ]
  },
  {
   "cell_type": "code",
   "execution_count": null,
   "id": "7db3e5a1",
   "metadata": {},
   "outputs": [],
   "source": [
    "# Visualizing the counts of owner\n",
    "print(df[\"geolocation_source\"].value_counts())\n",
    "labels='WRI','Industry About','National Renewable Energy Laboratory'\n",
    "plt.figure(figsize=(8,5))\n",
    "sns.countplot(df['geolocation_source'])\n",
    "plt.show()"
   ]
  },
  {
   "cell_type": "code",
   "execution_count": null,
   "id": "48b8c75b",
   "metadata": {},
   "outputs": [],
   "source": [
    "##Corealtion between features and target 'Capacity_mw' ( EDA )"
   ]
  },
  {
   "cell_type": "code",
   "execution_count": null,
   "id": "ecad057b",
   "metadata": {},
   "outputs": [],
   "source": [
    "#Checking the relation between target capacity_mw and variable geolocation source\n",
    "\n",
    "plt.figure(figsize=[10,6])\n",
    "plt.style.use('ggplot')\n",
    "plt.title('Comparision between geolocation_source and capacity_mw')\n",
    "sns.scatterplot(df['geolocation_source'],df[\"capacity_mw\"])"
   ]
  },
  {
   "cell_type": "code",
   "execution_count": null,
   "id": "ec7572fa",
   "metadata": {},
   "outputs": [],
   "source": [
    "#Checking the relation between power plant age and capacity_mw\n",
    "\n",
    "plt.figure(figsize=[10,6])\n",
    "plt.style.use('ggplot')\n",
    "plt.title('Comparision between Power_plant_age and capacity_mw')\n",
    "sns.scatterplot(df['Power_plant_age'],df[\"capacity_mw\"])"
   ]
  },
  {
   "cell_type": "code",
   "execution_count": null,
   "id": "505fe087",
   "metadata": {},
   "outputs": [],
   "source": [
    "# Checking the relation between feature latitude and targer capacity_mw\n",
    "\n",
    "plt.figure(figsize=[10,6])\n",
    "plt.style.use('ggplot')\n",
    "plt.title('Comparision between latitude and capacity_mw')\n",
    "sns.scatterplot(df['latitude'],df[\"capacity_mw\"])"
   ]
  },
  {
   "cell_type": "code",
   "execution_count": null,
   "id": "f15b383d",
   "metadata": {},
   "outputs": [],
   "source": [
    "# Checking the relationship between target longitude and capacity_mw\n",
    "\n",
    "plt.figure(figsize=[10,6])\n",
    "plt.style.use('ggplot')\n",
    "plt.title('Comparision between longitude and capacity_mw')\n",
    "sns.regplot(df['longitude'],df[\"capacity_mw\"]);\n"
   ]
  },
  {
   "cell_type": "code",
   "execution_count": null,
   "id": "d248e154",
   "metadata": {},
   "outputs": [],
   "source": [
    "fig,axes=plt.subplots(2,2,figsize=(15,12))\n",
    "\n",
    "#Checking the relation between feature generation_gwh_2014 and targer capacity_mw\n",
    "sns.scatterplot(x='generation_gwh_2014',y='capacity_mw',ax=axes[0,0],data=df,color=\"b\")\n",
    "\n",
    "#Checking the relation between feature generation_gwh_2015 and targer capacity_mw\n",
    "sns.scatterplot(x='generation_gwh_2015',y='capacity_mw',ax=axes[0,1],data=df,color=\"b\")\n",
    "\n",
    "#Checking the relation between feature generation_gwh_2016 and targer capacity_mw\n",
    "sns.scatterplot(x='generation_gwh_2016',y='capacity_mw',ax=axes[1,0],data=df,color=\"b\")\n",
    "\n",
    "#Checking the relation between feature generation_gwh_2017 and targer capacity_mw\n",
    "sns.scatterplot(x='generation_gwh_2017',y='capacity_mw',ax=axes[1,1],data=df,color=\"b\")\n",
    "plt.show()"
   ]
  },
  {
   "cell_type": "code",
   "execution_count": null,
   "id": "1954a5d2",
   "metadata": {},
   "outputs": [],
   "source": [
    "#Checking the relation between target fuel_type and variable Power_plant_age\n",
    "\n",
    "plt.figure(figsize=[10,6])\n",
    "plt.title('Comparision between Power_plant_age and Primary Fuel')\n",
    "sns.barplot(df['Power_plant_age'],df[\"primary_fuel\"])"
   ]
  },
  {
   "cell_type": "code",
   "execution_count": null,
   "id": "a4b9ac19",
   "metadata": {},
   "outputs": [],
   "source": [
    "# Checking the relation between feature latitude and targer Fuel_Type\n",
    "\n",
    "plt.figure(figsize=[10,6])\n",
    "plt.title('Comparision between latitude and Primary_Fuel')\n",
    "sns.barplot(df['latitude'],df[\"primary_fuel\"])"
   ]
  },
  {
   "cell_type": "code",
   "execution_count": null,
   "id": "d77a8714",
   "metadata": {},
   "outputs": [],
   "source": [
    "# Checking the relationship between target longitude and Fuel_Type\n",
    "\n",
    "plt.figure(figsize=[10,6])\n",
    "plt.title('Comparision between longitude and Fuel_Type')\n",
    "sns.barplot(df['longitude'],df[\"primary_fuel\"]);"
   ]
  },
  {
   "cell_type": "code",
   "execution_count": null,
   "id": "e0846794",
   "metadata": {},
   "outputs": [],
   "source": [
    "fig,axes=plt.subplots(2,2,figsize=(15,12))\n",
    "\n",
    "#Checking the relation between feature generation_gwh_2014 and targe primary_fuel\n",
    "sns.barplot(x='generation_gwh_2014',y='primary_fuel',ax=axes[0,0],data=df,color=\"b\")\n",
    "\n",
    "#Checking the relation between feature generation_gwh_2015 and target primary_fuel\n",
    "sns.barplot(x='generation_gwh_2015',y='primary_fuel',ax=axes[0,1],data=df,color=\"b\")\n",
    "\n",
    "#Checking the relation between feature generation_gwh_2016 and target primary_fuel\n",
    "sns.barplot(x='generation_gwh_2016',y='primary_fuel',ax=axes[1,0],data=df,color=\"b\")\n",
    "\n",
    "#Checking the relation between feature generation_gwh_2017 and target primary_fuel\n",
    "sns.barplot(x='generation_gwh_2017',y='primary_fuel',ax=axes[1,1],data=df,color=\"b\")\n",
    "plt.show()"
   ]
  },
  {
   "cell_type": "code",
   "execution_count": null,
   "id": "6dc6d2df",
   "metadata": {},
   "outputs": [],
   "source": [
    "##Coorelation\n",
    "df.corr()"
   ]
  },
  {
   "cell_type": "code",
   "execution_count": null,
   "id": "c3278f73",
   "metadata": {},
   "outputs": [],
   "source": [
    "# Coorelation with the Target Column Primary Fuel \n",
    "\n",
    "df.corr()['primary_fuel'].sort_values()"
   ]
  },
  {
   "cell_type": "code",
   "execution_count": null,
   "id": "fb3634d8",
   "metadata": {},
   "outputs": [],
   "source": [
    "import matplotlib.pyplot as plt\n",
    "import seaborn as sns\n",
    "plt.figure(figsize=(15,7))\n",
    "sns.heatmap(df.corr(), annot=True, linewidths=0.5,linecolor=\"black\", fmt='.2f')\n"
   ]
  },
  {
   "cell_type": "code",
   "execution_count": null,
   "id": "fbe31f34",
   "metadata": {},
   "outputs": [],
   "source": [
    "#Descriptive Statistics\n",
    "df.describe()"
   ]
  },
  {
   "cell_type": "code",
   "execution_count": null,
   "id": "fff4511c",
   "metadata": {},
   "outputs": [],
   "source": [
    "plt.figure(figsize=(15,7))\n",
    "sns.heatmap(round(df.describe()[1:].transpose(),2), annot=True, linewidths=0.5,linecolor=\"black\", fmt='f')\n"
   ]
  },
  {
   "cell_type": "code",
   "execution_count": null,
   "id": "d2f02bd8",
   "metadata": {},
   "outputs": [],
   "source": [
    "df.info()"
   ]
  },
  {
   "cell_type": "code",
   "execution_count": null,
   "id": "69db79f6",
   "metadata": {},
   "outputs": [],
   "source": [
    "##Skewness\n",
    "\n",
    "my_column = df.pop('capacity_mw')\n",
    "df.insert(12, 'capacity_mw', my_column) \n",
    "\n",
    "my_column1 = df.pop('primary_fuel')\n",
    "df.insert(12, 'primary_fuel', my_column1) \n",
    "\n",
    "\n",
    "df.head()"
   ]
  },
  {
   "cell_type": "code",
   "execution_count": null,
   "id": "51923037",
   "metadata": {},
   "outputs": [],
   "source": [
    "df.iloc[:,:-2].skew()"
   ]
  },
  {
   "cell_type": "code",
   "execution_count": null,
   "id": "15f5479e",
   "metadata": {},
   "outputs": [],
   "source": [
    "df.iloc[:,:-2].skew()"
   ]
  },
  {
   "cell_type": "code",
   "execution_count": null,
   "id": "60a3efc2",
   "metadata": {},
   "outputs": [],
   "source": [
    "df.dtypes"
   ]
  },
  {
   "cell_type": "code",
   "execution_count": null,
   "id": "e17844a0",
   "metadata": {},
   "outputs": [],
   "source": [
    "from sklearn.preprocessing import power_transform\n",
    "x_new=power_transform(df.iloc[:,:-2],method='yeo-johnson',standardize=True)\n",
    "\n",
    "df.iloc[:,:-2]=pd.DataFrame(x_new,columns=df.iloc[:,:-2].columns)\n"
   ]
  },
  {
   "cell_type": "code",
   "execution_count": null,
   "id": "bf491417",
   "metadata": {},
   "outputs": [],
   "source": [
    "df.iloc[:,:-2].skew()"
   ]
  },
  {
   "cell_type": "code",
   "execution_count": null,
   "id": "5dec952c",
   "metadata": {},
   "outputs": [],
   "source": [
    "##checking the outliers\n",
    "import warnings\n",
    "warnings.filterwarnings('ignore')\n",
    "df.plot(kind='box',subplots=True, layout=(3,5), figsize=[20,8])"
   ]
  },
  {
   "cell_type": "markdown",
   "id": "c7f513b4",
   "metadata": {},
   "source": [
    "# IQR Proximity Rule"
   ]
  },
  {
   "cell_type": "code",
   "execution_count": null,
   "id": "787e76dc",
   "metadata": {},
   "outputs": [],
   "source": [
    "#Z - Score Technique\n",
    "\n",
    "from scipy.stats import zscore\n",
    "import numpy as np\n",
    "z=np.abs(zscore(df))\n",
    "z.shape"
   ]
  },
  {
   "cell_type": "code",
   "execution_count": null,
   "id": "ddb29efa",
   "metadata": {},
   "outputs": [],
   "source": [
    "threshold=3\n",
    "print(np.where(z>3))"
   ]
  },
  {
   "cell_type": "code",
   "execution_count": null,
   "id": "33fb204f",
   "metadata": {},
   "outputs": [],
   "source": [
    "threshold=3\n",
    "print(np.where(z>3))"
   ]
  },
  {
   "cell_type": "code",
   "execution_count": null,
   "id": "182d7901",
   "metadata": {},
   "outputs": [],
   "source": [
    "df.drop([ 15, 15, 112, 130, 137, 143, 147, 209, 308, 308, 363, 364, 364,\n",
    "       364, 364, 364, 364, 375, 387, 393, 404, 415, 482, 493, 493, 493,\n",
    "       493, 493, 493, 494, 494, 494, 494, 494, 494, 538, 648, 648, 648,\n",
    "       648, 648, 648, 657, 657, 657, 657, 657, 695, 695, 695, 695, 695,\n",
    "       695, 709, 721, 726, 726, 726, 726, 726, 726, 728, 767, 786, 786,\n",
    "       786, 786, 786, 786, 788, 808, 808, 808, 808, 808, 811, 813, 817,\n",
    "       880, 880, 880, 880, 880, 880, 888, 894],axis=0)\n"
   ]
  },
  {
   "cell_type": "code",
   "execution_count": null,
   "id": "0694de00",
   "metadata": {},
   "outputs": [],
   "source": [
    "df=df[(z<3).all(axis=1)]\n",
    "df.shape"
   ]
  },
  {
   "cell_type": "code",
   "execution_count": null,
   "id": "97dfd28a",
   "metadata": {},
   "outputs": [],
   "source": [
    "##Feature Engineering ( Variantion Inflation Factor )\n",
    "from statsmodels.stats.outliers_influence import variance_inflation_factor\n",
    "df.corr()"
   ]
  },
  {
   "cell_type": "code",
   "execution_count": null,
   "id": "760ff346",
   "metadata": {},
   "outputs": [],
   "source": [
    "plt.figure(figsize=(25,22))\n",
    "sns.heatmap(df.corr(),linewidths=.1,vmin=-1, vmax=1, fmt='.2g', annot = True, linecolor=\"black\",annot_kws={'size':15},cmap=\"YlGnBu\")\n",
    "plt.yticks(rotation=0)"
   ]
  },
  {
   "cell_type": "code",
   "execution_count": null,
   "id": "fee6c2ad",
   "metadata": {},
   "outputs": [],
   "source": [
    "x1=df.drop('capacity_mw',axis=1)\n",
    "y1=df['capacity_mw']\n",
    "\n",
    "\n",
    "x2=df.drop('primary_fuel',axis=1)\n",
    "y2=df['primary_fuel']"
   ]
  },
  {
   "cell_type": "code",
   "execution_count": null,
   "id": "fe11ef49",
   "metadata": {},
   "outputs": [],
   "source": [
    "x1"
   ]
  },
  {
   "cell_type": "code",
   "execution_count": null,
   "id": "4e343a6e",
   "metadata": {},
   "outputs": [],
   "source": [
    "y1"
   ]
  },
  {
   "cell_type": "code",
   "execution_count": null,
   "id": "c18ba8e5",
   "metadata": {},
   "outputs": [],
   "source": [
    "def vif_calc1():\n",
    "  vif=pd.DataFrame()\n",
    "  vif[\"VIF Factor\"]=[variance_inflation_factor(x1.values,i) for i in range(x1.shape[1])]\n",
    "  vif[\"features\"]=x1.columns\n",
    "  print(vif)\n"
   ]
  },
  {
   "cell_type": "code",
   "execution_count": null,
   "id": "c10d731a",
   "metadata": {},
   "outputs": [],
   "source": [
    "vif_calc1()"
   ]
  },
  {
   "cell_type": "code",
   "execution_count": null,
   "id": "1f405c02",
   "metadata": {},
   "outputs": [],
   "source": [
    "x1.drop(['generation_gwh_2016'],axis=1,inplace=True)\n",
    "vif_calc1()"
   ]
  },
  {
   "cell_type": "code",
   "execution_count": null,
   "id": "1221fa41",
   "metadata": {},
   "outputs": [],
   "source": [
    "x2"
   ]
  },
  {
   "cell_type": "code",
   "execution_count": null,
   "id": "9cdf9624",
   "metadata": {},
   "outputs": [],
   "source": [
    "y2"
   ]
  },
  {
   "cell_type": "code",
   "execution_count": null,
   "id": "b2372bab",
   "metadata": {},
   "outputs": [],
   "source": [
    "def vif_calc2():\n",
    "  vif=pd.DataFrame()\n",
    "  vif[\"VIF Factor\"]=[variance_inflation_factor(x2.values,i) for i in range(x2.shape[1])]\n",
    "  vif[\"features\"]=x2.columns\n",
    "  print(vif)\n",
    "vif_calc2()"
   ]
  },
  {
   "cell_type": "code",
   "execution_count": null,
   "id": "2ed64293",
   "metadata": {},
   "outputs": [],
   "source": [
    "x2.drop(['generation_gwh_2016'],axis=1,inplace=True)\n",
    "vif_calc2()"
   ]
  },
  {
   "cell_type": "code",
   "execution_count": null,
   "id": "76d02ffc",
   "metadata": {},
   "outputs": [],
   "source": [
    "##Scaling the Data\n",
    "from sklearn.preprocessing import StandardScaler\n",
    "sc=StandardScaler()\n",
    "x1=pd.DataFrame(sc.fit_transform(x1), columns=x1.columns)\n",
    "x1"
   ]
  },
  {
   "cell_type": "code",
   "execution_count": null,
   "id": "3abb60d1",
   "metadata": {},
   "outputs": [],
   "source": [
    "from sklearn.preprocessing import StandardScaler\n",
    "sc=StandardScaler()\n",
    "x2=pd.DataFrame(sc.fit_transform(x2), columns=x2.columns)\n",
    "x2\n"
   ]
  },
  {
   "cell_type": "markdown",
   "id": "1b361d5e",
   "metadata": {},
   "source": [
    "##MODELLING FOR CAPACITY_MW\n",
    "Building Regression Model As Target Column Datatype is Float"
   ]
  },
  {
   "cell_type": "code",
   "execution_count": null,
   "id": "dd6c75e2",
   "metadata": {},
   "outputs": [],
   "source": [
    "from sklearn.model_selection import train_test_split\n",
    "from sklearn.metrics import mean_absolute_error\n",
    "from sklearn.metrics import mean_squared_error\n",
    "from sklearn.metrics import r2_score\n",
    "\n",
    "from sklearn.linear_model import LinearRegression\n",
    "from sklearn.ensemble import RandomForestRegressor\n",
    "from sklearn.tree import DecisionTreeRegressor\n",
    "from sklearn.neighbors import KNeighborsRegressor as KNN\n",
    "from sklearn.ensemble import GradientBoostingRegressor\n",
    "from sklearn.ensemble import AdaBoostRegressor\n",
    "from sklearn.ensemble import BaggingRegressor\n",
    "from sklearn.metrics import classification_report, accuracy_score\n",
    "from sklearn.model_selection import cross_val_score\n",
    "from sklearn import metrics\n",
    "from sklearn.model_selection import GridSearchCV\n",
    "\n",
    "from sklearn.linear_model import LogisticRegression\n",
    "from sklearn.tree import DecisionTreeClassifier\n",
    "from sklearn.ensemble import RandomForestClassifier\n",
    "from sklearn.svm import SVC\n",
    "from sklearn.neighbors import KNeighborsClassifier as KNN\n",
    "from sklearn.ensemble import GradientBoostingClassifier, BaggingClassifier\n",
    "from sklearn.metrics import classification_report, confusion_matrix, roc_curve, accuracy_score\n",
    "\n",
    "%matplotlib inline\n",
    "import warnings\n",
    "warnings.filterwarnings('ignore')"
   ]
  },
  {
   "cell_type": "code",
   "execution_count": null,
   "id": "19a2df3d",
   "metadata": {},
   "outputs": [],
   "source": [
    "#gettig the best random state\n",
    "maxAccu=0\n",
    "maxRS=0\n",
    "for i in range(1,100): \n",
    "    x_train,x_test, y_train, y_test =train_test_split(x1,y1, test_size=.30,random_state=i)\n",
    "    mod=RandomForestRegressor()\n",
    "    mod.fit(x_train, y_train)\n",
    "    pred=mod.predict(x_test)\n",
    "    acc=r2_score(y_test,pred)\n",
    "    if acc>maxAccu:\n",
    "        maxAccu=acc\n",
    "        maxRS=i\n",
    "print('R2 Score=', maxAccu*100, 'Random_State',maxRS)\n",
    "R2 Score= 86.65659092699795 Random_State 4\n",
    "Setting Train Test Split"
   ]
  },
  {
   "cell_type": "code",
   "execution_count": null,
   "id": "962cc84d",
   "metadata": {},
   "outputs": [],
   "source": [
    "x_train,x_test, y_train, y_test=train_test_split(x1,y1,test_size=.30, random_state=maxRS)\n"
   ]
  },
  {
   "cell_type": "code",
   "execution_count": null,
   "id": "ee1e6cf1",
   "metadata": {},
   "outputs": [],
   "source": [
    "# Checking r2score for Linear Regression\n",
    "LR = LinearRegression()\n",
    "LR.fit(x_train,y_train)\n",
    "\n",
    "# prediction\n",
    "predLR=LR.predict(x_test)\n",
    "print('R2_score:',(r2_score(y_test,predLR))*100)\n",
    "\n",
    "# Mean Absolute Error (MAE)\n",
    "print('MAE:',metrics.mean_absolute_error(y_test, predLR))\n",
    "\n",
    "# Mean Squared Error (MSE)\n",
    "print('MSE:',metrics.mean_squared_error(y_test, predLR))\n",
    "\n",
    "# Root Mean Squared Error (RMSE)\n",
    "print(\"RMSE:\",np.sqrt(metrics.mean_squared_error(y_test, predLR)))\n"
   ]
  },
  {
   "cell_type": "code",
   "execution_count": null,
   "id": "ffa64a68",
   "metadata": {},
   "outputs": [],
   "source": [
    "##Random Forest Regressor\n",
    "rf=RandomForestRegressor()\n",
    "rf.fit(x_train, y_train)\n",
    "\n",
    "# prediction\n",
    "predrf=rf.predict(x_test)\n",
    "print('R2_score:',(r2_score(y_test,predrf))*100)\n",
    "\n",
    "# Mean Absolute Error (MAE)\n",
    "print('MAE:',metrics.mean_absolute_error(y_test, predrf))\n",
    "\n",
    "# Mean Squared Error (MSE)\n",
    "print('MSE:',metrics.mean_squared_error(y_test, predrf))\n",
    "\n",
    "# Root Mean Squared Error (RMSE)\n",
    "print(\"RMSE:\",np.sqrt(metrics.mean_squared_error(y_test, predrf)))\n"
   ]
  },
  {
   "cell_type": "code",
   "execution_count": null,
   "id": "f300c65d",
   "metadata": {},
   "outputs": [],
   "source": [
    "##Gradient Boosting Regressor\n",
    "gb=GradientBoostingRegressor()\n",
    "gb.fit(x_train,y_train)\n",
    "\n",
    "predgb=gb.predict(x_test)\n",
    "print('R2_Score:',(r2_score(y_test,predgb))*100)\n",
    "\n",
    "# Mean Absolute Error (MAE)\n",
    "print('MAE:',metrics.mean_absolute_error(y_test, predgb))\n",
    "\n",
    "# Mean Squared Error (MSE)\n",
    "print('MSE:',metrics.mean_squared_error(y_test, predgb))\n",
    "\n",
    "# Root Mean Squared Error (RMSE)\n",
    "print(\"RMSE:\",np.sqrt(metrics.mean_squared_error(y_test, predgb)))\n"
   ]
  },
  {
   "cell_type": "code",
   "execution_count": null,
   "id": "953dbbf4",
   "metadata": {},
   "outputs": [],
   "source": [
    "##Bagging Regressor\n",
    "br=BaggingRegressor()\n",
    "br.fit(x_train,y_train)\n",
    "\n",
    "predbr=br.predict(x_test)\n",
    "print('R2_Score:',(r2_score(y_test,predbr))*100)\n",
    "\n",
    "# Mean Absolute Error (MAE)\n",
    "print('MAE:',metrics.mean_absolute_error(y_test, predbr))\n",
    "\n",
    "# Mean Squared Error (MSE)\n",
    "print('MSE:',metrics.mean_squared_error(y_test, predbr))\n",
    "\n",
    "# Root Mean Squared Error (RMSE)\n",
    "print(\"RMSE:\",np.sqrt(metrics.mean_squared_error(y_test, predbr)))\n"
   ]
  },
  {
   "cell_type": "code",
   "execution_count": null,
   "id": "3fa88375",
   "metadata": {},
   "outputs": [],
   "source": [
    "Cross- Validation\n",
    "# Checking cv score for Linear Regression\n",
    "print(cross_val_score(LR,x1,y1,cv=5).mean()*100)\n",
    "\n",
    "# Checking cv score for Random Forest Regressor\n",
    "print(cross_val_score(rf,x1,y1,cv=5).mean()*100)\n",
    "\n",
    "#Checking the cv score for GradientBoostingRegressor\n",
    "print(cross_val_score(gb,x1,y1,cv=5).mean()*100)\n",
    "\n",
    "#Checking the cv score for BaggingRegressor\n",
    "print(cross_val_score(br,x1,y1,cv=5).mean()*100)"
   ]
  },
  {
   "cell_type": "code",
   "execution_count": null,
   "id": "cafb3587",
   "metadata": {},
   "outputs": [],
   "source": [
    "##Hyper Parameter Tuning for the model with best acc and cv score\n",
    "#RandomForestRegressor\n",
    "parameters = {'criterion':['mse', 'mae'],\n",
    "             'max_features':['auto', 'sqrt', 'log2'],\n",
    "             'n_estimators':[0,200],\n",
    "             'max_depth':[2,3,4,6]}\n",
    "GCV=GridSearchCV(RandomForestRegressor(),parameters,cv=5)\n",
    "GCV.fit(x_train,y_train)"
   ]
  },
  {
   "cell_type": "code",
   "execution_count": null,
   "id": "2d9e8008",
   "metadata": {},
   "outputs": [],
   "source": [
    "GCV.best_params_"
   ]
  },
  {
   "cell_type": "code",
   "execution_count": null,
   "id": "7f45f6ee",
   "metadata": {},
   "outputs": [],
   "source": [
    "capacity_mw = RandomForestRegressor(criterion='mae', max_depth=6, max_features='sqrt', n_estimators=200)\n",
    "capacity_mw.fit(x_train, y_train)\n",
    "pred = capacity_mw.predict(x_test)\n",
    "print('R2_Score:',r2_score(y_test,pred)*100)\n",
    "print(\"RMSE value:\",np.sqrt(metrics.mean_squared_error(y_test, predrf)))\n"
   ]
  },
  {
   "cell_type": "code",
   "execution_count": null,
   "id": "51eff450",
   "metadata": {},
   "outputs": [],
   "source": [
    "Saving the model\n",
    "import joblib\n",
    "joblib.dump(capacity,\"Global_Power_Plant_capacity_mw.pkl\")"
   ]
  },
  {
   "cell_type": "markdown",
   "id": "b3e143d9",
   "metadata": {},
   "source": [
    "MODELLING FOR PRIMARY_FUEL\n",
    "Building CLASSIFICATION Model As Target Column's Datatype is Integer( In range of 8 )"
   ]
  },
  {
   "cell_type": "code",
   "execution_count": null,
   "id": "695362b9",
   "metadata": {},
   "outputs": [],
   "source": [
    "import seaborn as sns\n",
    "import matplotlib.pyplot as plt\n",
    "\n",
    "print(df['primary_fuel'].value_counts())  \n",
    "plt.figure(figsize=(5,5))\n",
    "sns.countplot(df['primary_fuel'])\n",
    "plt.show()"
   ]
  },
  {
   "cell_type": "code",
   "execution_count": null,
   "id": "747206b9",
   "metadata": {},
   "outputs": [],
   "source": [
    "from imblearn.over_sampling import SMOTE\n",
    "sm = SMOTE()\n",
    "x2, y2 = sm.fit_resample(x2,y2)\n",
    "y2.value_counts()"
   ]
  },
  {
   "cell_type": "code",
   "execution_count": null,
   "id": "88176eea",
   "metadata": {},
   "outputs": [],
   "source": [
    "##Modelling"
   ]
  },
  {
   "cell_type": "code",
   "execution_count": null,
   "id": "166a6c91",
   "metadata": {},
   "outputs": [],
   "source": [
    "maxAccu=0\n",
    "maxRS=0\n",
    "\n",
    "for i in range(1,200):\n",
    "    x_2_train,x_2_test, y_2_train, y_2_test=train_test_split(x2,y2,test_size=.30, random_state=i)\n",
    "    rfc=RandomForestClassifier()\n",
    "    rfc.fit(x_2_train,y_2_train)\n",
    "    pred=rfc.predict(x_2_test)\n",
    "    acc=accuracy_score(y_2_test,pred)\n",
    "    if acc>maxAccu:\n",
    "        maxAccu=acc\n",
    "        maxRS=i\n",
    "print(\"Best accuracy is \",maxAccu*100,\" on Random_state \",maxRS)\n"
   ]
  },
  {
   "cell_type": "code",
   "execution_count": null,
   "id": "96945c74",
   "metadata": {},
   "outputs": [],
   "source": [
    "##Logistic Regression\n",
    "# Checking Accuracy for Logistic Regression\n",
    "log = LogisticRegression()\n",
    "log.fit(x_2_train,y_2_train)\n",
    "\n",
    "#Prediction\n",
    "predlog = log.predict(x_2_test)\n",
    "\n",
    "print(accuracy_score(y_2_test, predlog)*100)\n",
    "print(confusion_matrix(y_2_test, predlog))\n",
    "print(classification_report(y_2_test,predlog))"
   ]
  },
  {
   "cell_type": "code",
   "execution_count": null,
   "id": "c2997f45",
   "metadata": {},
   "outputs": [],
   "source": [
    "# Plotting Confusion_Matrix\n",
    "cm = confusion_matrix(y_2_test,predlog)\n",
    "\n",
    "x_axis_labels = [\"0\",\"1\",\"2\",\"3\",\"4\",\"5\",\"6\",\"7\"]\n",
    "y_axis_labels = [\"0\",\"1\",\"2\",\"3\",\"4\",\"5\",\"6\",\"7\"]\n",
    "\n",
    "f , ax = plt.subplots(figsize=(7,7))\n",
    "sns.heatmap(cm, annot = True,linewidths=.2, linecolor=\"black\", fmt = \".0f\", ax=ax, cmap=\"BuGn\",xticklabels=x_axis_labels,yticklabels=y_axis_labels)\n",
    "plt.xlabel(\"PREDICTED LABEL\")\n",
    "plt.ylabel(\"TRUE LABEL\")\n",
    "plt.title('Confusion Matrix for LogisticRegression')\n",
    "plt.show()"
   ]
  },
  {
   "cell_type": "code",
   "execution_count": null,
   "id": "1cb37741",
   "metadata": {},
   "outputs": [],
   "source": [
    "##Random Forest Classifier\n",
    "# Checking accuracy for Random Forest Classifier\n",
    "rf = RandomForestClassifier()\n",
    "rf.fit(x_2_train,y_2_train)\n",
    "\n",
    "# Prediction\n",
    "predrf = rf.predict(x_2_test)\n",
    "\n",
    "print(accuracy_score(y_2_test, predrf)*100)\n",
    "print(confusion_matrix(y_2_test, predrf))\n",
    "print(classification_report(y_2_test,predrf))"
   ]
  },
  {
   "cell_type": "code",
   "execution_count": null,
   "id": "5073c44c",
   "metadata": {},
   "outputs": [],
   "source": [
    "# Lets plot confusion matrix for RandomForestClassifier\n",
    "cm = confusion_matrix(y_df_test,predrf)\n",
    "\n",
    "x_axis_labels = [\"0\",\"1\",\"2\",\"3\",\"4\",\"5\",\"6\",\"7\"]\n",
    "y_axis_labels = [\"0\",\"1\",\"2\",\"3\",\"4\",\"5\",\"6\",\"7\"]\n",
    "\n",
    "f , ax = plt.subplots(figsize=(7,7))\n",
    "sns.heatmap(cm, annot = True,linewidths=0.2, linecolor=\"black\", fmt = \".0f\", ax=ax, cmap=\"BuGn\",xticklabels=x_axis_labels,yticklabels=y_axis_labels)\n",
    "plt.xlabel(\"PREDICTED LABEL\")\n",
    "plt.ylabel(\"TRUE LABEL\")\n",
    "plt.title('Confusion Matrix for RandomForestClassifier')\n",
    "plt.show()"
   ]
  },
  {
   "cell_type": "code",
   "execution_count": null,
   "id": "40d5e72c",
   "metadata": {},
   "outputs": [],
   "source": [
    "#Decission Tree Classifier\n",
    "# Checking Accuracy for Decision Tree Classifier\n",
    "dtc = DecisionTreeClassifier()\n",
    "dtc.fit(x_2_train,y_2_train)\n",
    "\n",
    "#Prediction\n",
    "preddtc = dtc.predict(x_2_test)\n",
    "\n",
    "print(accuracy_score(y_2_test, preddtc)*100)\n",
    "print(confusion_matrix(y_2_test, preddtc))\n",
    "print(classification_report(y_2_test,preddtc))"
   ]
  },
  {
   "cell_type": "code",
   "execution_count": null,
   "id": "9af6388b",
   "metadata": {},
   "outputs": [],
   "source": [
    "# Lets plot confusion matrix for DTC\n",
    "cm = confusion_matrix(y_df_test,preddtc)\n",
    "\n",
    "x_axis_labels = [\"0\",\"1\",\"2\",\"3\",\"4\",\"5\",\"6\",\"7\"]\n",
    "y_axis_labels = [\"0\",\"1\",\"2\",\"3\",\"4\",\"5\",\"6\",\"7\"]\n",
    "\n",
    "f , ax = plt.subplots(figsize=(7,7))\n",
    "sns.heatmap(cm, annot = True,linewidths=.2, linecolor=\"black\", fmt = \".0f\", ax=ax, cmap=\"BuGn\",xticklabels=x_axis_labels,yticklabels=y_axis_labels)\n",
    "plt.xlabel(\"PREDICTED LABEL\")\n",
    "plt.ylabel(\"TRUE LABEL\")\n",
    "plt.title('Confusion Matrix for Decision Tree Classifier')\n",
    "plt.show()"
   ]
  },
  {
   "cell_type": "code",
   "execution_count": null,
   "id": "3d903c1f",
   "metadata": {},
   "outputs": [],
   "source": [
    "#Support Vector Machine Classifier\n",
    "# Checking accuracy for Support Vector Machine Classifier\n",
    "svc = SVC()\n",
    "svc.fit(x_2_train,y_2_train)\n",
    "\n",
    "# Prediction\n",
    "predsvc = svc.predict(x_2_test)\n",
    "\n",
    "print(accuracy_score(y_2_test, predsvc)*100)\n",
    "print(confusion_matrix(y_2_test, predsvc))\n",
    "print(classification_report(y_2_test,predsvc))"
   ]
  },
  {
   "cell_type": "code",
   "execution_count": null,
   "id": "7c4350de",
   "metadata": {},
   "outputs": [],
   "source": [
    "# Lets plot confusion matrix for Support Vector Machine Classifier\n",
    "cm = confusion_matrix(y_df_test,predsvc)\n",
    "\n",
    "x_axis_labels = [\"0\",\"1\",\"2\",\"3\",\"4\",\"5\",\"6\",\"7\"]\n",
    "y_axis_labels = [\"0\",\"1\",\"2\",\"3\",\"4\",\"5\",\"6\",\"7\"]\n",
    "\n",
    "f , ax = plt.subplots(figsize=(7,7))\n",
    "sns.heatmap(cm, annot = True,linewidths=.2, linecolor=\"black\", fmt = \".0f\", ax=ax, cmap=\"BuGn\",xticklabels=x_axis_labels,yticklabels=y_axis_labels)\n",
    "\n",
    "plt.xlabel(\"PREDICTED LABEL\")\n",
    "plt.ylabel(\"TRUE LABEL\")\n",
    "plt.title('Confusion Matrix for Support Vector Machine Classifier')\n",
    "plt.show()"
   ]
  },
  {
   "cell_type": "code",
   "execution_count": null,
   "id": "24ffa889",
   "metadata": {},
   "outputs": [],
   "source": [
    "##Gradient Boosting Classifier\n",
    "# Checking accuracy for Gradient Boosting Classifier\n",
    "GB = GradientBoostingClassifier()\n",
    "GB.fit(x_2_train,y_2_train)\n",
    "\n",
    "# Prediction\n",
    "predGB = GB.predict(x_2_test)\n",
    "\n",
    "print(accuracy_score(y_2_test, predGB)*100)\n",
    "print(confusion_matrix(y_2_test, predGB))\n",
    "print(classification_report(y_2_test,predGB))"
   ]
  },
  {
   "cell_type": "code",
   "execution_count": null,
   "id": "a9d6b080",
   "metadata": {},
   "outputs": [],
   "source": [
    "# Lets plot confusion matrix for Gradient Boosting Classifier\n",
    "cm = confusion_matrix(y_df_test,predGB)\n",
    "\n",
    "x_axis_labels = [\"0\",\"1\",\"2\",\"3\",\"4\",\"5\",\"6\",\"7\"]\n",
    "y_axis_labels = [\"0\",\"1\",\"2\",\"3\",\"4\",\"5\",\"6\",\"7\"]\n",
    "\n",
    "f , ax = plt.subplots(figsize=(7,7))\n",
    "sns.heatmap(cm, annot = True,linewidths=.2, linecolor=\"black\", fmt = \".0f\", ax=ax, cmap=\"BuGn\",xticklabels=x_axis_labels,yticklabels=y_axis_labels)\n",
    "\n",
    "plt.xlabel(\"PREDICTED LABEL\")\n",
    "plt.ylabel(\"TRUE LABEL\")\n",
    "plt.title('Confusion Matrix for Gradient Boosting Classifier')\n"
   ]
  },
  {
   "cell_type": "code",
   "execution_count": null,
   "id": "62a622f5",
   "metadata": {},
   "outputs": [],
   "source": [
    "#cv score for Logistic Regression\n",
    "print(cross_val_score(log,x2,y2,cv=5).mean()*100)\n",
    "\n",
    "# cv score for Decision Tree Classifier\n",
    "print(cross_val_score(dtc,x2,y2,cv=5).mean()*100)\n",
    "\n",
    "# cv score for Random Forest Classifier\n",
    "print(cross_val_score(rf,x2,y2,cv=5).mean()*100)\n",
    "\n",
    "# cv score for Support Vector  Classifier\n",
    "print(cross_val_score(svc,x2,y2,cv=5).mean()*100)\n",
    "\n",
    "# cv score for Gradient Boosting Classifier\n",
    "print(cross_val_score(GB,x2,y2,cv=5).mean()*100)"
   ]
  },
  {
   "cell_type": "code",
   "execution_count": null,
   "id": "102f7f9f",
   "metadata": {},
   "outputs": [],
   "source": [
    "#HyperParameter Tuning for the model with best score\n",
    "#Random Forest Classifier\n",
    "\n",
    "parameters = {'criterion':['gini'],\n",
    "             'max_features':['auto'],\n",
    "             'n_estimators':[0,200],\n",
    "             'max_depth':[2,3,4,5,6,8]}\n",
    "GCV=GridSearchCV(RandomForestClassifier(),parameters,cv=5)\n",
    "GCV.fit(x_2_train,y_2_train)"
   ]
  },
  {
   "cell_type": "code",
   "execution_count": null,
   "id": "25a98665",
   "metadata": {},
   "outputs": [],
   "source": [
    "GCV.best_params_"
   ]
  },
  {
   "cell_type": "code",
   "execution_count": null,
   "id": "6021e501",
   "metadata": {},
   "outputs": [],
   "source": [
    "fuel =RandomForestClassifier (criterion='gini', max_depth=8, max_features='auto', n_estimators=200)\n",
    "fuel.fit(x_2_train, y_2_train)\n",
    "pred = fuel.predict(x_2_test)\n",
    "acc=accuracy_score(y_2_test,pred)\n",
    "print(acc*100)"
   ]
  },
  {
   "cell_type": "code",
   "execution_count": null,
   "id": "fa252ebe",
   "metadata": {},
   "outputs": [],
   "source": [
    "##Plotting ROC and compare AUC for the final model\n",
    "from sklearn.preprocessing import label_binarize\n",
    "from sklearn.metrics import roc_curve, auc\n",
    "from sklearn.multiclass import OneVsRestClassifier\n",
    "classifier = OneVsRestClassifier(fuel)\n",
    "y_score = classifier.fit(x_2_train, y_2_train).predict_proba(x_2_test)\n",
    "\n",
    "#Binarize the output\n",
    "y_2_test_bin  = label_binarize(y_2_test, classes=[0,1,2,3,4,5,6,7])\n",
    "n_classes = 8\n",
    "\n",
    "# Compute ROC curve and AUC for all the classes\n",
    "false_positive_rate = dict()\n",
    "true_positive_rate = dict()\n",
    "roc_auc = dict()\n",
    "for i in range(n_classes):\n",
    "    false_positive_rate[i], true_positive_rate[i], _ = roc_curve(y_2_test_bin[:, i], y_score[:, i])\n",
    "    roc_auc[i] = auc(false_positive_rate[i], true_positive_rate[i])\n",
    "    \n",
    "for i in range(n_classes):\n",
    "    plt.plot(false_positive_rate[i], true_positive_rate[i], lw=2,\n",
    "             label='ROC curve of class {0} (area = {1:0.2f})'\n",
    "             ''.format(i, roc_auc[i]))\n",
    "\n",
    "plt.plot([0, 1], [0, 1], 'k--', lw=2)\n",
    "plt.xlim([-0.05, 1.0])\n",
    "plt.ylim([0.0, 1.05])\n",
    "plt.xlabel('False Positive Rate')\n",
    "plt.ylabel('True Positive Rate')\n",
    "plt.title('Receiver operating characteristic for multiclassification data')\n",
    "plt.legend(loc=\"lower right\")\n",
    "plt.show()"
   ]
  },
  {
   "cell_type": "markdown",
   "id": "cfb68aa6",
   "metadata": {},
   "source": [
    "##Conclusion:\n",
    "The accuracy score for Primary_Fuel is 94%\n",
    "The accuracy score for Capacity_mw is 87%"
   ]
  },
  {
   "cell_type": "code",
   "execution_count": null,
   "id": "6b7fec06",
   "metadata": {},
   "outputs": [],
   "source": [
    "##Saving the model\n",
    "import joblib\n",
    "joblib.dump(project,\"Global_Power_Plant_Fuel_Type.pkl\")"
   ]
  },
  {
   "cell_type": "code",
   "execution_count": null,
   "id": "8d9dab2e",
   "metadata": {},
   "outputs": [],
   "source": []
  },
  {
   "cell_type": "code",
   "execution_count": null,
   "id": "dc71975b",
   "metadata": {},
   "outputs": [],
   "source": []
  }
 ],
 "metadata": {
  "kernelspec": {
   "display_name": "Python 3",
   "language": "python",
   "name": "python3"
  },
  "language_info": {
   "codemirror_mode": {
    "name": "ipython",
    "version": 3
   },
   "file_extension": ".py",
   "mimetype": "text/x-python",
   "name": "python",
   "nbconvert_exporter": "python",
   "pygments_lexer": "ipython3",
   "version": "3.8.8"
  }
 },
 "nbformat": 4,
 "nbformat_minor": 5
}
