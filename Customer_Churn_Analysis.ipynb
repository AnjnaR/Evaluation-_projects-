{
 "cells": [
  {
   "cell_type": "markdown",
   "id": "de9ac0f3",
   "metadata": {},
   "source": [
    "# CHURN##\n",
    "Churn rate (sometimes called attrition rate), in its broadest sense, is a measure of the number of individuals or items moving out of a collective group over a specific period. It is one of two primary factors that determine the steady-state level of customers a business will support.\n",
    "\n",
    "Derived from the butter churn, the term is used in many contexts but most widely applied in business with respect to a contractual customer base. Examples include a subscriber-based service model as used by mobile telephone networks and pay TV operators. The term is often synonymous with turnover, for example participant turnover in peer-to-peer networks. Churn rate is an input into customer lifetime value modeling, and can be part of a simulator used to measure return on marketing investment using marketing mix modeling."
   ]
  },
  {
   "cell_type": "raw",
   "id": "b744e2ac",
   "metadata": {},
   "source": [
    "DATA DESCRIPTION\n",
    "Problem Statement: Customer churn is when a company’s customers stop doing business with that company. Businesses are very keen on measuring churn because keeping an existing customer is far less expensive than acquiring a new customer. New business involves working leads through a sales funnel, using marketing and sales budgets to gain additional customers. Existing customers will often have a higher volume of service consumption and can generate additional customer referrals.\n",
    "\n",
    "Customer retention can be achieved with good customer service and products. But the most effective way for a company to prevent attrition of customers is to truly know them. The vast volumes of data collected about customers can be used to build churn prediction models. Knowing who is most likely to defect means that a company can prioritise focused marketing efforts on that subset of their customer base.\n",
    "\n",
    "Preventing customer churn is critically important to the telecommunications sector, as the barriers to entry for switching services are so low.\n",
    "\n",
    "You will examine customer data from IBM Sample Data Sets with the aim of building and comparing several customer churn prediction models."
   ]
  },
  {
   "cell_type": "markdown",
   "id": "5b7c6f92",
   "metadata": {},
   "source": [
    "THE DATA SET"
   ]
  },
  {
   "cell_type": "code",
   "execution_count": null,
   "id": "f4b438a1",
   "metadata": {},
   "outputs": [],
   "source": [
    "import pandas as pd\n",
    "import numpy as np\n",
    "\n",
    "path ='https://raw.githubusercontent.com/dsrscientist/DSData/master/Telecom_customer_churn.csv'\n",
    "df= pd.read_csv(path)"
   ]
  },
  {
   "cell_type": "code",
   "execution_count": null,
   "id": "946b3b70",
   "metadata": {},
   "outputs": [],
   "source": [
    "df"
   ]
  },
  {
   "cell_type": "code",
   "execution_count": null,
   "id": "11f69404",
   "metadata": {},
   "outputs": [],
   "source": [
    "df.head()"
   ]
  },
  {
   "cell_type": "code",
   "execution_count": null,
   "id": "bfe45b38",
   "metadata": {},
   "outputs": [],
   "source": [
    "df.tail()"
   ]
  },
  {
   "cell_type": "code",
   "execution_count": null,
   "id": "2b0fb990",
   "metadata": {},
   "outputs": [],
   "source": [
    "df.columns\n"
   ]
  },
  {
   "cell_type": "code",
   "execution_count": null,
   "id": "93fb6456",
   "metadata": {},
   "outputs": [],
   "source": [
    "#Data Exploration\n",
    "cat_cols=df.select_dtypes([object])\n",
    "\n",
    "for col in cat_cols.columns:\n",
    "    print(col)\n",
    "    print(df[col].value_counts())\n",
    "    print('******************************************')"
   ]
  },
  {
   "cell_type": "code",
   "execution_count": null,
   "id": "1fe33265",
   "metadata": {},
   "outputs": [],
   "source": [
    "df.info()"
   ]
  },
  {
   "cell_type": "code",
   "execution_count": null,
   "id": "c3525f65",
   "metadata": {},
   "outputs": [],
   "source": [
    "df.head()"
   ]
  },
  {
   "cell_type": "code",
   "execution_count": null,
   "id": "1feffda7",
   "metadata": {},
   "outputs": [],
   "source": [
    "df['MonthlyCharges'].value_counts()"
   ]
  },
  {
   "cell_type": "code",
   "execution_count": null,
   "id": "74766c4d",
   "metadata": {},
   "outputs": [],
   "source": [
    "df['MonthlyCharges'] = pd.cut(df['MonthlyCharges'], bins = [0, 25, 50, 100,150], labels = ['Low', 'Average', 'High','Very High'])\n",
    "df['MonthlyCharges'].value_counts()"
   ]
  },
  {
   "cell_type": "code",
   "execution_count": null,
   "id": "14c72c92",
   "metadata": {},
   "outputs": [],
   "source": [
    "totalCharges = df.columns.get_loc(\"TotalCharges\")\n",
    "new_col = pd.to_numeric(df.iloc[:, TotalCharges], errors='coerce')\n",
    "df.iloc[:, TotalCharges] = pd.Series(new_col)\n",
    "df['TotalCharges'].value_counts()"
   ]
  },
  {
   "cell_type": "code",
   "execution_count": null,
   "id": "a0661204",
   "metadata": {},
   "outputs": [],
   "source": [
    "df['TotalCharges'] = pd.cut(df['TotalCharges'], bins = [0, 100, 500, 1000,10000], labels = ['Low', 'Average', 'High','Very High'])\n",
    "df['TotalCharges'].value_counts()"
   ]
  },
  {
   "cell_type": "code",
   "execution_count": null,
   "id": "6ac8f6a9",
   "metadata": {},
   "outputs": [],
   "source": [
    "df['tenure'].value_counts()"
   ]
  },
  {
   "cell_type": "code",
   "execution_count": null,
   "id": "09d5e77e",
   "metadata": {},
   "outputs": [],
   "source": [
    "df['tenure'] = pd.cut(df['tenure'], bins = [0, 25, 50, 100], labels = ['Low', 'Average', 'High'])\n",
    "df['tenure'].value_counts()"
   ]
  },
  {
   "cell_type": "code",
   "execution_count": null,
   "id": "fd5c2ee7",
   "metadata": {},
   "outputs": [],
   "source": [
    "df.describe()"
   ]
  },
  {
   "cell_type": "code",
   "execution_count": null,
   "id": "2aa91a9f",
   "metadata": {},
   "outputs": [],
   "source": [
    "# Dropping the irrelevant columns..\n",
    "\n",
    "df.drop(columns=[\"customerID\"], axis=1, inplace=True)"
   ]
  },
  {
   "cell_type": "markdown",
   "id": "d4276602",
   "metadata": {},
   "source": [
    "#Checking for the Columns containing Null , Blank Or Empty Values"
   ]
  },
  {
   "cell_type": "code",
   "execution_count": null,
   "id": "fcccbae8",
   "metadata": {},
   "outputs": [],
   "source": [
    "df.isnull().sum()"
   ]
  },
  {
   "cell_type": "code",
   "execution_count": null,
   "id": "29e84f06",
   "metadata": {},
   "outputs": [],
   "source": [
    "df.dtypes()"
   ]
  },
  {
   "cell_type": "code",
   "execution_count": null,
   "id": "4c10d64d",
   "metadata": {},
   "outputs": [],
   "source": [
    "import seaborn as sns\n",
    "import matplotlib.pyplot as plt\n",
    "\n",
    "sns.heatmap(df.isnull())\n",
    "plt.title(\"Null Values\")\n",
    "plt.show()"
   ]
  },
  {
   "cell_type": "code",
   "execution_count": null,
   "id": "81291291",
   "metadata": {},
   "outputs": [],
   "source": [
    "df[\"TotalCharges\"] = df[\"TotalCharges\"].fillna(df[\"TotalCharges\"].mean())\n"
   ]
  },
  {
   "cell_type": "code",
   "execution_count": null,
   "id": "9e2b4181",
   "metadata": {},
   "outputs": [],
   "source": [
    "df.isnull().sum()"
   ]
  },
  {
   "cell_type": "code",
   "execution_count": null,
   "id": "0d79d8a5",
   "metadata": {},
   "outputs": [],
   "source": [
    "#Transforming the Data types of the Columns To Same DataTypes \n",
    "df.info()"
   ]
  },
  {
   "cell_type": "code",
   "execution_count": null,
   "id": "caed1dc0",
   "metadata": {},
   "outputs": [],
   "source": [
    "df.describe()"
   ]
  },
  {
   "cell_type": "code",
   "execution_count": null,
   "id": "1392b800",
   "metadata": {},
   "outputs": [],
   "source": [
    "from sklearn.preprocessing import LabelEncoder\n",
    "le =LabelEncoder()\n",
    "\n",
    "list1=['gender','Partner','Dependents','PhoneService','MultipleLines','InternetService','OnlineSecurity','OnlineBackup','DeviceProtection','TechSupport','StreamingTV','StreamingMovies','Contract','PaperlessBilling','PaymentMethod','Churn','MonthlyCharges','TotalCharges','tenure']\n",
    "for val in list1:\n",
    "  df[val]=le.fit_transform(df[val].astype(str))"
   ]
  },
  {
   "cell_type": "code",
   "execution_count": null,
   "id": "74a89ec4",
   "metadata": {},
   "outputs": [],
   "source": [
    "df.head()"
   ]
  },
  {
   "cell_type": "markdown",
   "id": "3ad04377",
   "metadata": {},
   "source": [
    "# EDA"
   ]
  },
  {
   "cell_type": "code",
   "execution_count": null,
   "id": "1d3c068b",
   "metadata": {},
   "outputs": [],
   "source": [
    "fig, ax = plt.subplots(figsize = (12,5))\n",
    "sns.countplot(df.PaymentMethod, hue = df.Contract, ax = ax)"
   ]
  },
  {
   "cell_type": "code",
   "execution_count": null,
   "id": "5190c2b2",
   "metadata": {},
   "outputs": [],
   "source": [
    "group = \"PaymentMethod\"\n",
    "target = \"Churn\"\n",
    "fig, ax = plt.subplots(figsize = (12,5))\n",
    "temp_df = (df.groupby([group, target]).size()/df.groupby(group)[target].count()).reset_index().pivot(columns=target, index=group, values=0)\n",
    "temp_df.plot(kind='bar', stacked=True, ax = ax, color = [\"green\", \"darkred\"])\n",
    "ax.xaxis.set_tick_params(rotation=0)\n",
    "ax.set_xlabel(group)\n",
    "ax.set_ylabel('Churn Percentage');"
   ]
  },
  {
   "cell_type": "code",
   "execution_count": null,
   "id": "79317dc8",
   "metadata": {},
   "outputs": [],
   "source": [
    "plt.figure(figsize=(16,8))\n",
    "sns.countplot(x=\"tenure\", hue=\"Churn\", data=df)\n",
    "plt.show()"
   ]
  },
  {
   "cell_type": "markdown",
   "id": "c4332c51",
   "metadata": {},
   "source": [
    "People having month-to-month contract prefer paying by Electronic Check mostly or mailed check. The reason might be short subscription cancellation process compared to automatic payment.\n",
    "\n",
    "\n",
    "\n",
    "\n",
    "As we can see the higher the tenure, the lesser the churn rate. This tells us that the customer becomes loyal with the tenure."
   ]
  },
  {
   "cell_type": "code",
   "execution_count": null,
   "id": "16d06961",
   "metadata": {},
   "outputs": [],
   "source": []
  },
  {
   "cell_type": "code",
   "execution_count": null,
   "id": "71c55454",
   "metadata": {},
   "outputs": [],
   "source": [
    "stacked_plot(df, \"PhoneService\", \"Churn\")\n",
    "stacked_plot(df, \"MultipleLines\", \"Churn\")\n",
    "stacked_plot(df, \"OnlineSecurity\", \"Churn\")\n",
    "stacked_plot(df, \"OnlineBackup\", \"Churn\")\n",
    "stacked_plot(df, \"DeviceProtection\", \"Churn\")\n",
    "stacked_plot(df, \"TechSupport\", \"Churn\")\n",
    "stacked_plot(df, \"StreamingTV\", \"Churn\")\n",
    "stacked_plot(df, \"StreamingMovies\", \"Churn\")\n",
    "stacked_plot(df, \"gender\", \"Churn\")\n",
    "stacked_plot(df, \"SeniorCitizen\", \"Churn\")\n",
    "stacked_plot(df, \"Partner\", \"Churn\")\n",
    "stacked_plot(df, \"Dependents\", \"Churn\")\n"
   ]
  },
  {
   "cell_type": "markdown",
   "id": "a4365eb1",
   "metadata": {},
   "source": [
    "\n",
    "Observations\n",
    "\n",
    "As we can see multiplelines and phoneservice do not add value in the model having similar churn rate\n",
    "\n",
    "\n",
    "If a person does not opt for internet service, the customer churning is less. The reason might be the less cost of the service. Also, if they have internet service and does not opt for specific service their probability of churning is high.\n",
    "\n",
    "\n",
    "Gender alone does not help us predict the customer churn.\n",
    "\n",
    "If a person is young and has a family, he or she is less likely to stop the service as we can see below. The reason might be the busy life, more money or another factors.\n",
    "\n",
    "Mostly people without dependents go for fiber optic option as Internnet Service and their churning percentage is high."
   ]
  },
  {
   "cell_type": "code",
   "execution_count": null,
   "id": "05e730d4",
   "metadata": {},
   "outputs": [],
   "source": [
    "sns.distplot(df.tenure[df.OnlineSecurity == \"No\"], hist_kws=dict(alpha=0.3), label=\"No\")\n",
    "sns.distplot(df.tenure[df.OnlineSecurity == \"Yes\"], hist_kws=dict(alpha=0.3), label=\"Yes\")\n",
    "sns.distplot(df.tenure[df.OnlineSecurity == \"No internet service\"], hist_kws=dict(alpha=0.3), label=\"No Internet Service\")\n",
    "plt.title(\"Tenure Distribution by Online Security Service Subscription\")\n",
    "plt.legend()\n",
    "plt.show()"
   ]
  },
  {
   "cell_type": "markdown",
   "id": "34968fcd",
   "metadata": {},
   "source": [
    "#as we can see here there is not a normal distribution "
   ]
  },
  {
   "cell_type": "code",
   "execution_count": null,
   "id": "7fe3184e",
   "metadata": {},
   "outputs": [],
   "source": [
    "df.hist(figsize=(15,30),edgecolor='red',layout=(9,3),bins=15,legend=True)\n",
    "plt.show()"
   ]
  },
  {
   "cell_type": "code",
   "execution_count": null,
   "id": "f85e7062",
   "metadata": {},
   "outputs": [],
   "source": [
    "sns.pairplot(df)"
   ]
  },
  {
   "cell_type": "markdown",
   "id": "4e101298",
   "metadata": {},
   "source": [
    "# Corealtion between features"
   ]
  },
  {
   "cell_type": "code",
   "execution_count": null,
   "id": "d9d05df4",
   "metadata": {},
   "outputs": [],
   "source": [
    "df.corr()"
   ]
  },
  {
   "cell_type": "code",
   "execution_count": null,
   "id": "53cb9413",
   "metadata": {},
   "outputs": [],
   "source": [
    "df.corr()['Churn'].sort_values()"
   ]
  },
  {
   "cell_type": "code",
   "execution_count": null,
   "id": "1b70def3",
   "metadata": {},
   "outputs": [],
   "source": [
    "import matplotlib.pyplot as plt\n",
    "import seaborn as sns\n",
    "plt.figure(figsize=(15,7))\n",
    "sns.heatmap(df.corr(), annot=True, linewidths=0.5,linecolor=\"black\", fmt='.2f')\n"
   ]
  },
  {
   "cell_type": "code",
   "execution_count": null,
   "id": "86cedf94",
   "metadata": {},
   "outputs": [],
   "source": [
    "##Descriptive Statistics\n",
    "df.describe()"
   ]
  },
  {
   "cell_type": "code",
   "execution_count": null,
   "id": "5e27f87b",
   "metadata": {},
   "outputs": [],
   "source": [
    "plt.figure(figsize=(15,7))\n",
    "sns.heatmap(round(df.describe()[1:].transpose(),2), annot=True, linewidths=0.5,linecolor=\"black\", fmt='f')\n"
   ]
  },
  {
   "cell_type": "code",
   "execution_count": null,
   "id": "d48bc7d3",
   "metadata": {},
   "outputs": [],
   "source": [
    "df.info()"
   ]
  },
  {
   "cell_type": "code",
   "execution_count": null,
   "id": "10b33c9d",
   "metadata": {},
   "outputs": [],
   "source": [
    "##Checking Skewness\n",
    "df.iloc[:,:-1].skew()"
   ]
  },
  {
   "cell_type": "code",
   "execution_count": null,
   "id": "5c951ed4",
   "metadata": {},
   "outputs": [],
   "source": [
    "df.dtypes"
   ]
  },
  {
   "cell_type": "code",
   "execution_count": null,
   "id": "c9bbc3aa",
   "metadata": {},
   "outputs": [],
   "source": [
    "rom sklearn.preprocessing import power_transform\n",
    "x_new=power_transform(df.iloc[:,:-1],method='yeo-johnson')\n",
    "\n",
    "df.iloc[:,:-1]=pd.DataFrame(x_new,columns=df.iloc[:,:-1].columns)\n",
    "df.iloc[:,:-1].skew()"
   ]
  },
  {
   "cell_type": "code",
   "execution_count": null,
   "id": "fc925ae8",
   "metadata": {},
   "outputs": [],
   "source": [
    "##Outliers Checking\n",
    "import warnings\n",
    "warnings.filterwarnings('ignore')\n",
    "df.plot(kind='box',subplots=True, layout=(3,9), figsize=[20,8])"
   ]
  },
  {
   "cell_type": "markdown",
   "id": "ed9f1c0a",
   "metadata": {},
   "source": [
    "# IQR Proximity Rule\n",
    "Z - Score Technique"
   ]
  },
  {
   "cell_type": "code",
   "execution_count": null,
   "id": "b3690e4c",
   "metadata": {},
   "outputs": [],
   "source": [
    "from scipy.stats import zscore\n",
    "import numpy as np\n",
    "z=np.abs(zscore(df))\n",
    "z.shape\n"
   ]
  },
  {
   "cell_type": "code",
   "execution_count": null,
   "id": "d8e157c1",
   "metadata": {},
   "outputs": [],
   "source": [
    "threshold=3\n",
    "print(np.where(z>3))"
   ]
  },
  {
   "cell_type": "code",
   "execution_count": null,
   "id": "17ecfa56",
   "metadata": {},
   "outputs": [],
   "source": [
    "len(np.where(z>3)[0])"
   ]
  },
  {
   "cell_type": "code",
   "execution_count": null,
   "id": "f06e23c2",
   "metadata": {},
   "outputs": [],
   "source": [
    "df.drop([0,    3,    7,   20,   27,   62,   81,   89,  103,  105,  107,\n",
    "        114,  116,  129,  131,  133,  168,  180,  185,  187,  206,  211,\n",
    "        215,  216,  217,  225,  236,  252,  255,  259,  260,  263,  272,\n",
    "        278,  303,  321,  324,  328,  348,  354,  358,  372,  376,  382,\n",
    "        387,  398,  424,  431,  435,  452,  465,  481,  488,  495,  498,\n",
    "        544,  569,  596,  610,  616,  620,  634,  660,  667,  669,  674,\n",
    "        677,  688,  716,  718,  735,  765,  776,  784,  790,  794,  813,\n",
    "        829,  843,  847,  859,  866,  873,  875,  877,  884,  893,  917,\n",
    "        934,  941,  943,  960,  973, 1011, 1018, 1037, 1050, 1051, 1053,\n",
    "       1072, 1110, 1119, 1122, 1144, 1146, 1150, 1161, 1169, 1182, 1204,\n",
    "       1221, 1225, 1242, 1255, 1257, 1271, 1278, 1298, 1311, 1326, 1331,\n",
    "       1333, 1334, 1340, 1349, 1352, 1365, 1379, 1402, 1407, 1416, 1452,\n",
    "       1479, 1480, 1481, 1500, 1506, 1513, 1519, 1560, 1562, 1581, 1584,\n",
    "       1614, 1620, 1634, 1637, 1652, 1689, 1692, 1694, 1703, 1722, 1734,\n",
    "       1789, 1802, 1803, 1819, 1827, 1832, 1845, 1851, 1854, 1862, 1881,\n",
    "       1889, 1892, 1894, 1906, 1910, 1944, 1959, 1969, 1985, 1989, 1998,\n",
    "       2002, 2031, 2046, 2050, 2087, 2089, 2090, 2117, 2124, 2127, 2131,\n",
    "       2188, 2215, 2225, 2226, 2237, 2239, 2290, 2295, 2310, 2340, 2344,\n",
    "       2348, 2362, 2382, 2383, 2385, 2398, 2399, 2409, 2412, 2413, 2417,\n",
    "       2420, 2421, 2426, 2427, 2431, 2433, 2465, 2468, 2492, 2533, 2538,\n",
    "       2541, 2547, 2562, 2608, 2610, 2626, 2637, 2644, 2661, 2662, 2681,\n",
    "       2696, 2700, 2709, 2712, 2718, 2725, 2728, 2748, 2751, 2752, 2754,\n",
    "       2761, 2773, 2781, 2804, 2809, 2814, 2841, 2842, 2889, 2898, 2899,\n",
    "       2903, 2913, 2915, 2916, 2918, 2919, 2929, 2940, 2944, 2962, 2966,\n",
    "       2972, 2990, 2992, 2994, 2995, 3020, 3028, 3036, 3039, 3042, 3043,\n",
    "       3060, 3062, 3070, 3073, 3080, 3092, 3096, 3126, 3127, 3133, 3139,\n",
    "       3150, 3160, 3174, 3177, 3183, 3185, 3190, 3191, 3194, 3213, 3221,\n",
    "       3223, 3233, 3235, 3243, 3258, 3290, 3292, 3311, 3316, 3318, 3342,\n",
    "       3354, 3363, 3370, 3414, 3422, 3444, 3454, 3492, 3502, 3505, 3541,\n",
    "       3542, 3557, 3575, 3583, 3586, 3594, 3613, 3614, 3617, 3620, 3621,\n",
    "       3652, 3653, 3660, 3677, 3680, 3685, 3690, 3722, 3733, 3738, 3753,\n",
    "       3756, 3773, 3819, 3860, 3870, 3873, 3877, 3902, 3905, 3926, 3934,\n",
    "       3940, 3945, 3946, 3955, 3961, 3973, 3976, 3983, 3989, 4008, 4020,\n",
    "       4024, 4027, 4029, 4040, 4041, 4043, 4048, 4052, 4054, 4055, 4056,\n",
    "       4071, 4075, 4085, 4099, 4109, 4128, 4130, 4132, 4141, 4149, 4151,\n",
    "       4162, 4168, 4174, 4178, 4180, 4183, 4200, 4207, 4208, 4233, 4239,\n",
    "       4251, 4281, 4290, 4309, 4310, 4311, 4338, 4369, 4396, 4400, 4402,\n",
    "       4409, 4411, 4424, 4432, 4465, 4474, 4481, 4521, 4537, 4557, 4565,\n",
    "       4603, 4612, 4641, 4653, 4657, 4665, 4670, 4702, 4710, 4726, 4728,\n",
    "       4729, 4740, 4750, 4765, 4773, 4821, 4828, 4831, 4840, 4845, 4849,\n",
    "       4854, 4857, 4860, 4882, 4883, 4897, 4898, 4915, 4919, 4924, 4933,\n",
    "       4949, 4965, 4968, 4970, 4974, 4976, 4981, 4983, 4989, 4992, 4993,\n",
    "       5002, 5013, 5014, 5017, 5034, 5060, 5062, 5064, 5066, 5073, 5085,\n",
    "       5091, 5117, 5130, 5144, 5147, 5163, 5176, 5180, 5186, 5204, 5207,\n",
    "       5210, 5212, 5216, 5249, 5263, 5264, 5284, 5290, 5292, 5296, 5303,\n",
    "       5314, 5329, 5331, 5338, 5343, 5348, 5356, 5359, 5382, 5387, 5391,\n",
    "       5392, 5411, 5456, 5489, 5497, 5501, 5505, 5531, 5536, 5546, 5559,\n",
    "       5565, 5601, 5607, 5631, 5636, 5648, 5665, 5666, 5674, 5682, 5683,\n",
    "       5690, 5717, 5740, 5761, 5788, 5790, 5796, 5799, 5829, 5833, 5837,\n",
    "       5841, 5880, 5884, 5889, 5891, 5900, 5911, 5939, 5941, 5942, 5949,\n",
    "       5950, 5954, 5961, 5967, 5976, 5983, 6001, 6006, 6007, 6020, 6030,\n",
    "       6031, 6039, 6043, 6059, 6064, 6067, 6074, 6080, 6087, 6093, 6108,\n",
    "       6129, 6132, 6133, 6145, 6149, 6162, 6174, 6183, 6204, 6209, 6212,\n",
    "       6218, 6219, 6220, 6235, 6248, 6252, 6253, 6256, 6260, 6263, 6269,\n",
    "       6285, 6296, 6310, 6319, 6326, 6331, 6367, 6377, 6383, 6392, 6406,\n",
    "       6415, 6416, 6424, 6425, 6435, 6455, 6457, 6459, 6493, 6494, 6500,\n",
    "       6503, 6509, 6514, 6515, 6522, 6523, 6530, 6536, 6547, 6553, 6570,\n",
    "       6573, 6593, 6600, 6607, 6624, 6640, 6653, 6661, 6662, 6665, 6677,\n",
    "       6679, 6683, 6684, 6691, 6693, 6703, 6727, 6747, 6750, 6752, 6757,\n",
    "       6777, 6779, 6783, 6791, 6810, 6811, 6813, 6834, 6864, 6881, 6884,\n",
    "       6891, 6895, 6904, 6905, 6937, 6940, 6941, 6943, 6946, 6949, 6964,\n",
    "       6966, 6979, 6980, 6984, 6985, 6999, 7003, 7007, 7029, 7040],axis=0)"
   ]
  },
  {
   "cell_type": "code",
   "execution_count": null,
   "id": "e23474a0",
   "metadata": {},
   "outputs": [],
   "source": [
    "df=df[(z<3).all(axis=1)]"
   ]
  },
  {
   "cell_type": "markdown",
   "id": "c7893330",
   "metadata": {},
   "source": [
    "# Feature Engineering ( VIF )"
   ]
  },
  {
   "cell_type": "code",
   "execution_count": null,
   "id": "cd61d4ce",
   "metadata": {},
   "outputs": [],
   "source": [
    "from statsmodels.stats.outliers_influence import variance_inflation_factor\n",
    "df.corr()\n"
   ]
  },
  {
   "cell_type": "code",
   "execution_count": null,
   "id": "0c95f4ed",
   "metadata": {},
   "outputs": [],
   "source": [
    "plt.figure(figsize=(25,22))\n",
    "sns.heatmap(df.corr(),linewidths=.1,vmin=-1, vmax=1, fmt='.2g', annot = True, linecolor=\"black\",annot_kws={'size':15},cmap=\"YlGnBu\")\n",
    "plt.yticks(rotation=0)"
   ]
  },
  {
   "cell_type": "code",
   "execution_count": null,
   "id": "3249efc0",
   "metadata": {},
   "outputs": [],
   "source": [
    "df.isnull().sum()"
   ]
  },
  {
   "cell_type": "code",
   "execution_count": null,
   "id": "0eee1e88",
   "metadata": {},
   "outputs": [],
   "source": [
    "x=df.drop('Churn',axis=1)\n",
    "y=df['Churn']"
   ]
  },
  {
   "cell_type": "code",
   "execution_count": null,
   "id": "440b7bc7",
   "metadata": {},
   "outputs": [],
   "source": [
    "x"
   ]
  },
  {
   "cell_type": "code",
   "execution_count": null,
   "id": "5e0bb286",
   "metadata": {},
   "outputs": [],
   "source": [
    "y"
   ]
  },
  {
   "cell_type": "code",
   "execution_count": null,
   "id": "8a16e1f8",
   "metadata": {},
   "outputs": [],
   "source": [
    "def vif_calc():\n",
    "  vif=pd.DataFrame()\n",
    "  vif[\"VIF Factor\"]=[variance_inflation_factor(x.values,i) for i in range(x.shape[1])]\n",
    "  vif[\"features\"]=x.columns\n",
    "  print(vif)\n",
    "    vif_calc()"
   ]
  },
  {
   "cell_type": "code",
   "execution_count": null,
   "id": "0f96d9b2",
   "metadata": {},
   "outputs": [],
   "source": [
    "# Dropping the irrelevant columns..\n",
    "\n",
    "x.drop(columns=[\"TotalCharges\"], axis=1, inplace=True)\n",
    "vif_calc()"
   ]
  },
  {
   "cell_type": "code",
   "execution_count": null,
   "id": "7f9ed5c1",
   "metadata": {},
   "outputs": [],
   "source": [
    "##Scaling the Data\n",
    "from sklearn.preprocessing import StandardScaler\n",
    "sc=StandardScaler()\n",
    "x=pd.DataFrame(sc.fit_transform(x), columns=x.columns)\n",
    "x"
   ]
  },
  {
   "cell_type": "markdown",
   "id": "76bfff5c",
   "metadata": {},
   "source": [
    "# MODELLING"
   ]
  },
  {
   "cell_type": "markdown",
   "id": "9906339e",
   "metadata": {},
   "source": [
    "Building CLASSIFICATION Model As Target Column's Has only Two Outputs"
   ]
  },
  {
   "cell_type": "code",
   "execution_count": null,
   "id": "1013de82",
   "metadata": {},
   "outputs": [],
   "source": [
    "import seaborn as sns\n",
    "import matplotlib.pyplot as plt\n",
    "\n",
    "print(df['Churn'].value_counts())  \n",
    "plt.figure(figsize=(5,5))\n",
    "sns.countplot(df['Churn'])\n",
    "plt.show()"
   ]
  },
  {
   "cell_type": "code",
   "execution_count": null,
   "id": "48845db5",
   "metadata": {},
   "outputs": [],
   "source": [
    "##OverSampling\n",
    "from imblearn.over_sampling import SMOTE\n",
    "sm = SMOTE()\n",
    "x, y = sm.fit_resample(x,y)\n",
    "y.value_counts()"
   ]
  },
  {
   "cell_type": "code",
   "execution_count": null,
   "id": "f9cc1e3b",
   "metadata": {},
   "outputs": [],
   "source": [
    "Getting the best random state\n",
    "from sklearn.model_selection import train_test_split\n",
    "from sklearn.linear_model import LogisticRegression\n",
    "from sklearn.tree import DecisionTreeClassifier\n",
    "from sklearn.ensemble import RandomForestClassifier\n",
    "from sklearn.svm import SVC\n",
    "from sklearn.neighbors import KNeighborsClassifier as KNN\n",
    "from sklearn.ensemble import GradientBoostingClassifier, BaggingClassifier\n",
    "from sklearn.metrics import classification_report, confusion_matrix, roc_curve, accuracy_score\n",
    "from sklearn.metrics import classification_report, accuracy_score\n",
    "from sklearn.model_selection import cross_val_score\n",
    "from sklearn import metrics\n",
    "from sklearn.model_selection import GridSearchCV\n",
    "\n",
    "maxAccu=0\n",
    "maxRS=0\n",
    "\n",
    "for i in range(1,200):\n",
    "    x_train,x_test, y_train, y_test=train_test_split(x,y,test_size=.30, random_state=i)\n",
    "    rfc=RandomForestClassifier()\n",
    "    rfc.fit(x_train,y_train)\n",
    "    pred=rfc.predict(x_test)\n",
    "    acc=accuracy_score(y_test,pred)\n",
    "    if acc>maxAccu:\n",
    "        maxAccu=acc\n",
    "        maxRS=i\n",
    "print(\"Best accuracy is \",maxAccu*100,\" on Random_state \",maxRS)"
   ]
  },
  {
   "cell_type": "code",
   "execution_count": null,
   "id": "1988604f",
   "metadata": {},
   "outputs": [],
   "source": [
    "x_train,x_test,y_train,y_test=train_test_split(x,y,test_size=.30,random_state=maxRS)"
   ]
  },
  {
   "cell_type": "code",
   "execution_count": null,
   "id": "fd51a1b6",
   "metadata": {},
   "outputs": [],
   "source": [
    "##Logistic Regression\n",
    "# Checking Accuracy for Logistic Regression\n",
    "log = LogisticRegression()\n",
    "log.fit(x_train,y_train)\n",
    "\n",
    "#Prediction\n",
    "predlog = log.predict(x_test)\n",
    "\n",
    "print(accuracy_score(y_test, predlog)*100)\n",
    "print(confusion_matrix(y_test, predlog))\n",
    "print(classification_report(y_test,predlog))"
   ]
  },
  {
   "cell_type": "code",
   "execution_count": null,
   "id": "5341e056",
   "metadata": {},
   "outputs": [],
   "source": [
    "Random Forest Classifier\n",
    "# Checking accuracy for Random Forest Classifier\n",
    "rf = RandomForestClassifier()\n",
    "rf.fit(x_train,y_train)\n",
    "\n",
    "# Prediction\n",
    "predrf = rf.predict(x_test)\n",
    "\n",
    "print(accuracy_score(y_test, predrf)*100)\n",
    "print(confusion_matrix(y_test, predrf))\n",
    "print(classification_report(y_test,predrf))"
   ]
  },
  {
   "cell_type": "code",
   "execution_count": null,
   "id": "53bc0f0a",
   "metadata": {},
   "outputs": [],
   "source": [
    "Decission Tree Classifier\n",
    "# Checking Accuracy for Decision Tree Classifier\n",
    "dtc = DecisionTreeClassifier()\n",
    "dtc.fit(x_train,y_train)\n",
    "\n",
    "#Prediction\n",
    "preddtc = dtc.predict(x_test)\n",
    "\n",
    "print(accuracy_score(y_test, preddtc)*100)\n",
    "print(confusion_matrix(y_test, preddtc))\n",
    "print(classification_report(y_test,preddtc))"
   ]
  },
  {
   "cell_type": "code",
   "execution_count": null,
   "id": "01fe3a2c",
   "metadata": {},
   "outputs": [],
   "source": []
  },
  {
   "cell_type": "code",
   "execution_count": null,
   "id": "e788efec",
   "metadata": {},
   "outputs": [],
   "source": [
    "##support Vector Machine Classifier\n",
    "# Checking accuracy for Support Vector Machine Classifier\n",
    "svc = SVC()\n",
    "svc.fit(x_train,y_train)\n",
    "\n",
    "# Prediction\n",
    "predsvc = svc.predict(x_test)\n",
    "\n",
    "print(accuracy_score(y_test, predsvc)*100)\n",
    "print(confusion_matrix(y_test, predsvc))\n",
    "print(classification_report(y_test,predsvc))"
   ]
  },
  {
   "cell_type": "code",
   "execution_count": null,
   "id": "2ca8c4c5",
   "metadata": {},
   "outputs": [],
   "source": [
    "##Gradient Boosting Classifier\n",
    "# Checking accuracy for Gradient Boosting Classifier\n",
    "GB = GradientBoostingClassifier()\n",
    "GB.fit(x_train,y_train)\n",
    "\n",
    "# Prediction\n",
    "predGB = GB.predict(x_test)\n",
    "\n",
    "print(accuracy_score(y_test, predGB)*100)\n",
    "print(confusion_matrix(y_test, predGB))\n",
    "print(classification_report(y_test,predGB))"
   ]
  },
  {
   "cell_type": "code",
   "execution_count": null,
   "id": "6aa49806",
   "metadata": {},
   "outputs": [],
   "source": [
    "##Cross Validation Score\n",
    "#cv score for Logistic Regression\n",
    "print(cross_val_score(log,x,y,cv=5).mean()*100)\n",
    "\n",
    "# cv score for Decision Tree Classifier\n",
    "print(cross_val_score(dtc,x,y,cv=5).mean()*100)\n",
    "\n",
    "# cv score for Random Forest Classifier\n",
    "print(cross_val_score(rf,x,y,cv=5).mean()*100)\n",
    "\n",
    "# cv score for Support Vector  Classifier\n",
    "print(cross_val_score(svc,x,y,cv=5).mean()*100)\n",
    "\n",
    "# cv score for Gradient Boosting Classifier\n",
    "print(cross_val_score(GB,x,y,cv=5).mean()*100)"
   ]
  },
  {
   "cell_type": "markdown",
   "id": "8abeaa45",
   "metadata": {},
   "source": [
    "# Random Forest Classifier is working the best with respect to Cross validation score as well which is minimum in the case.."
   ]
  },
  {
   "cell_type": "code",
   "execution_count": null,
   "id": "3f6b39e5",
   "metadata": {},
   "outputs": [],
   "source": [
    "##HyperParameter Tuning for the model with best score\n",
    "#Random Forest Classifier\n",
    "\n",
    "parameters = {'criterion':['gini'],\n",
    "             'max_features':['auto'],\n",
    "             'n_estimators':[0,200],\n",
    "             'max_depth':[2,3,4,5,6,8]}\n",
    "GCV=GridSearchCV(RandomForestClassifier(),parameters,cv=5)\n",
    "GCV.fit(x_train,y_train)"
   ]
  },
  {
   "cell_type": "code",
   "execution_count": null,
   "id": "67b710b4",
   "metadata": {},
   "outputs": [],
   "source": [
    "GCV.best_params_"
   ]
  },
  {
   "cell_type": "code",
   "execution_count": null,
   "id": "fa050080",
   "metadata": {},
   "outputs": [],
   "source": [
    "Churne =RandomForestClassifier (criterion='gini', max_depth=8, max_features='auto', n_estimators=200)\n",
    "Churne.fit(x_train, y_train)\n",
    "pred = Churne.predict(x_test)\n",
    "acc=accuracy_score(y_test,pred)\n",
    "print(acc*100)"
   ]
  },
  {
   "cell_type": "code",
   "execution_count": null,
   "id": "89dd6958",
   "metadata": {},
   "outputs": [],
   "source": [
    "##Plotting ROC and compare AUC for the final model\n",
    "from sklearn.metrics import plot_roc_curve\n",
    "plot_roc_curve(Churne,x_test,y_test)\n",
    "plt.title(\"ROC AUC Plot\")\n",
    "plt.show()"
   ]
  },
  {
   "cell_type": "markdown",
   "id": "d52e843c",
   "metadata": {},
   "source": [
    "# Conclusion:\n",
    "The accuracy score for Income is 91 %"
   ]
  },
  {
   "cell_type": "code",
   "execution_count": null,
   "id": "701a1339",
   "metadata": {},
   "outputs": [],
   "source": [
    "#Saving the model\n",
    "import joblib\n",
    "joblib.dump(Churne,\"Census_Income.pkl\")\n",
    "['Census_Income.pkl']"
   ]
  }
 ],
 "metadata": {
  "kernelspec": {
   "display_name": "Python 3",
   "language": "python",
   "name": "python3"
  },
  "language_info": {
   "codemirror_mode": {
    "name": "ipython",
    "version": 3
   },
   "file_extension": ".py",
   "mimetype": "text/x-python",
   "name": "python",
   "nbconvert_exporter": "python",
   "pygments_lexer": "ipython3",
   "version": "3.8.8"
  }
 },
 "nbformat": 4,
 "nbformat_minor": 5
}
